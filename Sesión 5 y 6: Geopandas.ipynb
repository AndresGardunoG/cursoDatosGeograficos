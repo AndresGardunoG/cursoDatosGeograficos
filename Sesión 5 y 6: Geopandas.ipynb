{
 "cells": [
  {
   "cell_type": "markdown",
   "metadata": {},
   "source": [
    "# Geopandas\n"
   ]
  },
  {
   "cell_type": "markdown",
   "metadata": {},
   "source": [
    "instalación\n",
    "* ubuntu: pip install geopandas\n",
    "* windows: conda install -c conda-forge geopandas"
   ]
  },
  {
   "cell_type": "markdown",
   "metadata": {},
   "source": [
    "Documentación: http://geopandas.org"
   ]
  },
  {
   "cell_type": "code",
   "execution_count": 1,
   "metadata": {
    "collapsed": true
   },
   "outputs": [],
   "source": [
    "import geopandas as gpd\n",
    "import pandas as pd\n",
    "import numpy as np\n",
    "import matplotlib.pyplot as plt\n",
    "% matplotlib inline\n"
   ]
  },
  {
   "cell_type": "code",
   "execution_count": 127,
   "metadata": {},
   "outputs": [
    {
     "data": {
      "text/html": [
       "<div>\n",
       "<style>\n",
       "    .dataframe thead tr:only-child th {\n",
       "        text-align: right;\n",
       "    }\n",
       "\n",
       "    .dataframe thead th {\n",
       "        text-align: left;\n",
       "    }\n",
       "\n",
       "    .dataframe tbody tr th {\n",
       "        vertical-align: top;\n",
       "    }\n",
       "</style>\n",
       "<table border=\"1\" class=\"dataframe\">\n",
       "  <thead>\n",
       "    <tr style=\"text-align: right;\">\n",
       "      <th></th>\n",
       "      <th>CVE_ENT</th>\n",
       "      <th>CVE_MUN</th>\n",
       "      <th>NOM_MUN</th>\n",
       "      <th>OID</th>\n",
       "      <th>geometry</th>\n",
       "    </tr>\n",
       "  </thead>\n",
       "  <tbody>\n",
       "    <tr>\n",
       "      <th>0</th>\n",
       "      <td>09</td>\n",
       "      <td>012</td>\n",
       "      <td>Tlalpan</td>\n",
       "      <td>1</td>\n",
       "      <td>POLYGON ((-99.1967110331436 19.30240497001839,...</td>\n",
       "    </tr>\n",
       "    <tr>\n",
       "      <th>1</th>\n",
       "      <td>09</td>\n",
       "      <td>013</td>\n",
       "      <td>Xochimilco</td>\n",
       "      <td>2</td>\n",
       "      <td>POLYGON ((-99.13301433831455 19.21009500703628...</td>\n",
       "    </tr>\n",
       "    <tr>\n",
       "      <th>2</th>\n",
       "      <td>09</td>\n",
       "      <td>008</td>\n",
       "      <td>La Magdalena Contreras</td>\n",
       "      <td>3</td>\n",
       "      <td>POLYGON ((-99.24488741070159 19.27620941570171...</td>\n",
       "    </tr>\n",
       "    <tr>\n",
       "      <th>3</th>\n",
       "      <td>09</td>\n",
       "      <td>002</td>\n",
       "      <td>Azcapotzalco</td>\n",
       "      <td>4</td>\n",
       "      <td>POLYGON ((-99.15718110621088 19.50284888316681...</td>\n",
       "    </tr>\n",
       "    <tr>\n",
       "      <th>4</th>\n",
       "      <td>09</td>\n",
       "      <td>014</td>\n",
       "      <td>Benito Ju�rez</td>\n",
       "      <td>5</td>\n",
       "      <td>POLYGON ((-99.14349968483091 19.35724145471904...</td>\n",
       "    </tr>\n",
       "  </tbody>\n",
       "</table>\n",
       "</div>"
      ],
      "text/plain": [
       "  CVE_ENT CVE_MUN                 NOM_MUN  OID  \\\n",
       "0      09     012                 Tlalpan    1   \n",
       "1      09     013              Xochimilco    2   \n",
       "2      09     008  La Magdalena Contreras    3   \n",
       "3      09     002            Azcapotzalco    4   \n",
       "4      09     014           Benito Ju�rez    5   \n",
       "\n",
       "                                            geometry  \n",
       "0  POLYGON ((-99.1967110331436 19.30240497001839,...  \n",
       "1  POLYGON ((-99.13301433831455 19.21009500703628...  \n",
       "2  POLYGON ((-99.24488741070159 19.27620941570171...  \n",
       "3  POLYGON ((-99.15718110621088 19.50284888316681...  \n",
       "4  POLYGON ((-99.14349968483091 19.35724145471904...  "
      ]
     },
     "execution_count": 127,
     "metadata": {},
     "output_type": "execute_result"
    }
   ],
   "source": [
    "gdf = gpd.read_file('data/Municipios/')\n",
    "gdf.head()\n"
   ]
  },
  {
   "cell_type": "code",
   "execution_count": 3,
   "metadata": {},
   "outputs": [
    {
     "data": {
      "text/plain": [
       "geopandas.geodataframe.GeoDataFrame"
      ]
     },
     "execution_count": 3,
     "metadata": {},
     "output_type": "execute_result"
    }
   ],
   "source": [
    "type(gdf)"
   ]
  },
  {
   "cell_type": "code",
   "execution_count": 4,
   "metadata": {},
   "outputs": [
    {
     "data": {
      "text/plain": [
       "pandas.core.frame.DataFrame"
      ]
     },
     "execution_count": 4,
     "metadata": {},
     "output_type": "execute_result"
    }
   ],
   "source": [
    "type(gdf[['CVE_ENT','CVE_MUN','OID']])"
   ]
  },
  {
   "cell_type": "code",
   "execution_count": 5,
   "metadata": {},
   "outputs": [
    {
     "name": "stdout",
     "output_type": "stream",
     "text": [
      "<class 'geopandas.geodataframe.GeoDataFrame'>\n",
      "RangeIndex: 2456 entries, 0 to 2455\n",
      "Data columns (total 5 columns):\n",
      "CVE_ENT     2456 non-null object\n",
      "CVE_MUN     2456 non-null object\n",
      "NOM_MUN     2456 non-null object\n",
      "OID         2456 non-null int64\n",
      "geometry    2456 non-null object\n",
      "dtypes: int64(1), object(4)\n",
      "memory usage: 96.0+ KB\n"
     ]
    }
   ],
   "source": [
    "gdf.info()"
   ]
  },
  {
   "cell_type": "code",
   "execution_count": 6,
   "metadata": {},
   "outputs": [
    {
     "data": {
      "text/plain": [
       "geopandas.geoseries.GeoSeries"
      ]
     },
     "execution_count": 6,
     "metadata": {},
     "output_type": "execute_result"
    }
   ],
   "source": [
    "type(gdf.geometry)"
   ]
  },
  {
   "cell_type": "code",
   "execution_count": 128,
   "metadata": {},
   "outputs": [
    {
     "data": {
      "text/plain": [
       "<matplotlib.axes._subplots.AxesSubplot at 0x7f9d6d7a9208>"
      ]
     },
     "execution_count": 128,
     "metadata": {},
     "output_type": "execute_result"
    },
    {
     "data": {
      "image/png": "[encoded data removed]",
      "text/plain": [
       "<matplotlib.figure.Figure at 0x7f9d6d6bec50>"
      ]
     },
     "metadata": {},
     "output_type": "display_data"
    }
   ],
   "source": [
    "gdf.plot(column='OID')"
   ]
  },
  {
   "cell_type": "code",
   "execution_count": 8,
   "metadata": {},
   "outputs": [
    {
     "data": {
      "text/plain": [
       "<matplotlib.axes._subplots.AxesSubplot at 0x7f9d72bbe898>"
      ]
     },
     "execution_count": 8,
     "metadata": {},
     "output_type": "execute_result"
    },
    {
     "data": {
      "image/png": "[encoded data removed]",
      "text/plain": [
       "<matplotlib.figure.Figure at 0x7f9d72bc2e10>"
      ]
     },
     "metadata": {},
     "output_type": "display_data"
    }
   ],
   "source": [
    "\n",
    "gdf = gdf.loc[gdf.CVE_ENT=='05',:]\n",
    "gdf.plot(column='OID')\n"
   ]
  },
  {
   "cell_type": "markdown",
   "metadata": {},
   "source": [
    "## Lectura\n",
    "\n",
    "Casi cualquier formato de información geoespacial vectorial"
   ]
  },
  {
   "cell_type": "code",
   "execution_count": 9,
   "metadata": {},
   "outputs": [
    {
     "data": {
      "text/plain": [
       "{'ARCGEN': 'r',\n",
       " 'AeronavFAA': 'r',\n",
       " 'BNA': 'raw',\n",
       " 'DGN': 'raw',\n",
       " 'DXF': 'raw',\n",
       " 'ESRI Shapefile': 'raw',\n",
       " 'GPSTrackMaker': 'raw',\n",
       " 'GPX': 'raw',\n",
       " 'GeoJSON': 'rw',\n",
       " 'Idrisi': 'r',\n",
       " 'MapInfo File': 'raw',\n",
       " 'OpenFileGDB': 'r',\n",
       " 'PCIDSK': 'r',\n",
       " 'SEGY': 'r',\n",
       " 'SUA': 'r'}"
      ]
     },
     "execution_count": 9,
     "metadata": {},
     "output_type": "execute_result"
    }
   ],
   "source": [
    "import fiona; fiona.supported_drivers"
   ]
  },
  {
   "cell_type": "code",
   "execution_count": 10,
   "metadata": {},
   "outputs": [
    {
     "data": {
      "text/html": [
       "<div>\n",
       "<style>\n",
       "    .dataframe thead tr:only-child th {\n",
       "        text-align: right;\n",
       "    }\n",
       "\n",
       "    .dataframe thead th {\n",
       "        text-align: left;\n",
       "    }\n",
       "\n",
       "    .dataframe tbody tr th {\n",
       "        vertical-align: top;\n",
       "    }\n",
       "</style>\n",
       "<table border=\"1\" class=\"dataframe\">\n",
       "  <thead>\n",
       "    <tr style=\"text-align: right;\">\n",
       "      <th></th>\n",
       "      <th>cvegeo</th>\n",
       "      <th>municipio</th>\n",
       "      <th>geometry</th>\n",
       "    </tr>\n",
       "  </thead>\n",
       "  <tbody>\n",
       "    <tr>\n",
       "      <th>0</th>\n",
       "      <td>9010</td>\n",
       "      <td>ALVARO OBREGON</td>\n",
       "      <td>POLYGON ((-99.26899687 19.30463712, -99.269029...</td>\n",
       "    </tr>\n",
       "    <tr>\n",
       "      <th>1</th>\n",
       "      <td>9002</td>\n",
       "      <td>AZCAPOTZALCO</td>\n",
       "      <td>POLYGON ((-99.20688081 19.47120497, -99.207120...</td>\n",
       "    </tr>\n",
       "    <tr>\n",
       "      <th>2</th>\n",
       "      <td>9014</td>\n",
       "      <td>BENITO JUAREZ</td>\n",
       "      <td>POLYGON ((-99.18894424 19.39556665, -99.187556...</td>\n",
       "    </tr>\n",
       "    <tr>\n",
       "      <th>3</th>\n",
       "      <td>9003</td>\n",
       "      <td>COYOACAN</td>\n",
       "      <td>POLYGON ((-99.10069169 19.29984584, -99.103266...</td>\n",
       "    </tr>\n",
       "    <tr>\n",
       "      <th>4</th>\n",
       "      <td>9004</td>\n",
       "      <td>CUAJIMALPA</td>\n",
       "      <td>POLYGON ((-99.25561125999999 19.40427641, -99....</td>\n",
       "    </tr>\n",
       "    <tr>\n",
       "      <th>5</th>\n",
       "      <td>9015</td>\n",
       "      <td>CUAUHTEMOC</td>\n",
       "      <td>POLYGON ((-99.12572428 19.40425509, -99.127240...</td>\n",
       "    </tr>\n",
       "    <tr>\n",
       "      <th>6</th>\n",
       "      <td>9005</td>\n",
       "      <td>GUSTAVO A MADERO</td>\n",
       "      <td>POLYGON ((-99.07539946999999 19.44866099, -99....</td>\n",
       "    </tr>\n",
       "    <tr>\n",
       "      <th>7</th>\n",
       "      <td>9006</td>\n",
       "      <td>IZTACALCO</td>\n",
       "      <td>POLYGON ((-99.13541011 19.37723098, -99.134945...</td>\n",
       "    </tr>\n",
       "    <tr>\n",
       "      <th>8</th>\n",
       "      <td>9007</td>\n",
       "      <td>IZTAPALAPA</td>\n",
       "      <td>POLYGON ((-99.06164945 19.29332949, -99.061707...</td>\n",
       "    </tr>\n",
       "    <tr>\n",
       "      <th>9</th>\n",
       "      <td>9008</td>\n",
       "      <td>MAGDALENA CONTRERAS</td>\n",
       "      <td>POLYGON ((-99.24178889 19.28882408, -99.241656...</td>\n",
       "    </tr>\n",
       "    <tr>\n",
       "      <th>10</th>\n",
       "      <td>9016</td>\n",
       "      <td>MIGUEL HIDALGO</td>\n",
       "      <td>POLYGON ((-99.24743779000001 19.38620603, -99....</td>\n",
       "    </tr>\n",
       "    <tr>\n",
       "      <th>11</th>\n",
       "      <td>9009</td>\n",
       "      <td>MILPA ALTA</td>\n",
       "      <td>(POLYGON ((-99.10503988000001 19.19542955, -99...</td>\n",
       "    </tr>\n",
       "    <tr>\n",
       "      <th>12</th>\n",
       "      <td>9011</td>\n",
       "      <td>TLAHUAC</td>\n",
       "      <td>(POLYGON ((-98.97854073000001 19.21483156, -98...</td>\n",
       "    </tr>\n",
       "    <tr>\n",
       "      <th>13</th>\n",
       "      <td>9012</td>\n",
       "      <td>TLALPAN</td>\n",
       "      <td>POLYGON ((-99.25211046 19.26683074, -99.252667...</td>\n",
       "    </tr>\n",
       "    <tr>\n",
       "      <th>14</th>\n",
       "      <td>9017</td>\n",
       "      <td>VENUSTIANO CARRANZA</td>\n",
       "      <td>POLYGON ((-99.12572428 19.40425509, -99.126292...</td>\n",
       "    </tr>\n",
       "    <tr>\n",
       "      <th>15</th>\n",
       "      <td>9013</td>\n",
       "      <td>XOCHIMILCO</td>\n",
       "      <td>POLYGON ((-99.14924243 19.2442199, -99.1483972...</td>\n",
       "    </tr>\n",
       "  </tbody>\n",
       "</table>\n",
       "</div>"
      ],
      "text/plain": [
       "    cvegeo            municipio  \\\n",
       "0     9010       ALVARO OBREGON   \n",
       "1     9002         AZCAPOTZALCO   \n",
       "2     9014        BENITO JUAREZ   \n",
       "3     9003             COYOACAN   \n",
       "4     9004           CUAJIMALPA   \n",
       "5     9015           CUAUHTEMOC   \n",
       "6     9005     GUSTAVO A MADERO   \n",
       "7     9006            IZTACALCO   \n",
       "8     9007           IZTAPALAPA   \n",
       "9     9008  MAGDALENA CONTRERAS   \n",
       "10    9016       MIGUEL HIDALGO   \n",
       "11    9009           MILPA ALTA   \n",
       "12    9011              TLAHUAC   \n",
       "13    9012              TLALPAN   \n",
       "14    9017  VENUSTIANO CARRANZA   \n",
       "15    9013           XOCHIMILCO   \n",
       "\n",
       "                                             geometry  \n",
       "0   POLYGON ((-99.26899687 19.30463712, -99.269029...  \n",
       "1   POLYGON ((-99.20688081 19.47120497, -99.207120...  \n",
       "2   POLYGON ((-99.18894424 19.39556665, -99.187556...  \n",
       "3   POLYGON ((-99.10069169 19.29984584, -99.103266...  \n",
       "4   POLYGON ((-99.25561125999999 19.40427641, -99....  \n",
       "5   POLYGON ((-99.12572428 19.40425509, -99.127240...  \n",
       "6   POLYGON ((-99.07539946999999 19.44866099, -99....  \n",
       "7   POLYGON ((-99.13541011 19.37723098, -99.134945...  \n",
       "8   POLYGON ((-99.06164945 19.29332949, -99.061707...  \n",
       "9   POLYGON ((-99.24178889 19.28882408, -99.241656...  \n",
       "10  POLYGON ((-99.24743779000001 19.38620603, -99....  \n",
       "11  (POLYGON ((-99.10503988000001 19.19542955, -99...  \n",
       "12  (POLYGON ((-98.97854073000001 19.21483156, -98...  \n",
       "13  POLYGON ((-99.25211046 19.26683074, -99.252667...  \n",
       "14  POLYGON ((-99.12572428 19.40425509, -99.126292...  \n",
       "15  POLYGON ((-99.14924243 19.2442199, -99.1483972...  "
      ]
     },
     "execution_count": 10,
     "metadata": {},
     "output_type": "execute_result"
    }
   ],
   "source": [
    "gpd.read_file('data/delegaciones.json')"
   ]
  },
  {
   "cell_type": "markdown",
   "metadata": {},
   "source": [
    "## Administrando proyecciones, CRS (Coordinate Reference Systems)"
   ]
  },
  {
   "cell_type": "code",
   "execution_count": 11,
   "metadata": {},
   "outputs": [
    {
     "data": {
      "text/html": [
       "<div>\n",
       "<style>\n",
       "    .dataframe thead tr:only-child th {\n",
       "        text-align: right;\n",
       "    }\n",
       "\n",
       "    .dataframe thead th {\n",
       "        text-align: left;\n",
       "    }\n",
       "\n",
       "    .dataframe tbody tr th {\n",
       "        vertical-align: top;\n",
       "    }\n",
       "</style>\n",
       "<table border=\"1\" class=\"dataframe\">\n",
       "  <thead>\n",
       "    <tr style=\"text-align: right;\">\n",
       "      <th></th>\n",
       "      <th>pop_est</th>\n",
       "      <th>continent</th>\n",
       "      <th>name</th>\n",
       "      <th>iso_a3</th>\n",
       "      <th>gdp_md_est</th>\n",
       "      <th>geometry</th>\n",
       "    </tr>\n",
       "  </thead>\n",
       "  <tbody>\n",
       "    <tr>\n",
       "      <th>0</th>\n",
       "      <td>28400000.0</td>\n",
       "      <td>Asia</td>\n",
       "      <td>Afghanistan</td>\n",
       "      <td>AFG</td>\n",
       "      <td>22270.0</td>\n",
       "      <td>POLYGON ((61.21081709172574 35.65007233330923,...</td>\n",
       "    </tr>\n",
       "    <tr>\n",
       "      <th>1</th>\n",
       "      <td>12799293.0</td>\n",
       "      <td>Africa</td>\n",
       "      <td>Angola</td>\n",
       "      <td>AGO</td>\n",
       "      <td>110300.0</td>\n",
       "      <td>(POLYGON ((16.32652835456705 -5.87747039146621...</td>\n",
       "    </tr>\n",
       "    <tr>\n",
       "      <th>2</th>\n",
       "      <td>3639453.0</td>\n",
       "      <td>Europe</td>\n",
       "      <td>Albania</td>\n",
       "      <td>ALB</td>\n",
       "      <td>21810.0</td>\n",
       "      <td>POLYGON ((20.59024743010491 41.85540416113361,...</td>\n",
       "    </tr>\n",
       "    <tr>\n",
       "      <th>3</th>\n",
       "      <td>4798491.0</td>\n",
       "      <td>Asia</td>\n",
       "      <td>United Arab Emirates</td>\n",
       "      <td>ARE</td>\n",
       "      <td>184300.0</td>\n",
       "      <td>POLYGON ((51.57951867046327 24.24549713795111,...</td>\n",
       "    </tr>\n",
       "    <tr>\n",
       "      <th>4</th>\n",
       "      <td>40913584.0</td>\n",
       "      <td>South America</td>\n",
       "      <td>Argentina</td>\n",
       "      <td>ARG</td>\n",
       "      <td>573900.0</td>\n",
       "      <td>(POLYGON ((-65.50000000000003 -55.199999999999...</td>\n",
       "    </tr>\n",
       "  </tbody>\n",
       "</table>\n",
       "</div>"
      ],
      "text/plain": [
       "      pop_est      continent                  name iso_a3  gdp_md_est  \\\n",
       "0  28400000.0           Asia           Afghanistan    AFG     22270.0   \n",
       "1  12799293.0         Africa                Angola    AGO    110300.0   \n",
       "2   3639453.0         Europe               Albania    ALB     21810.0   \n",
       "3   4798491.0           Asia  United Arab Emirates    ARE    184300.0   \n",
       "4  40913584.0  South America             Argentina    ARG    573900.0   \n",
       "\n",
       "                                            geometry  \n",
       "0  POLYGON ((61.21081709172574 35.65007233330923,...  \n",
       "1  (POLYGON ((16.32652835456705 -5.87747039146621...  \n",
       "2  POLYGON ((20.59024743010491 41.85540416113361,...  \n",
       "3  POLYGON ((51.57951867046327 24.24549713795111,...  \n",
       "4  (POLYGON ((-65.50000000000003 -55.199999999999...  "
      ]
     },
     "execution_count": 11,
     "metadata": {},
     "output_type": "execute_result"
    }
   ],
   "source": [
    "world = gpd.read_file(gpd.datasets.get_path('naturalearth_lowres'))\n",
    "world = world[(world.name != \"Antarctica\") & (world.name != \"Fr. S. Antarctic Lands\")]\n",
    "world.head()"
   ]
  },
  {
   "cell_type": "code",
   "execution_count": 12,
   "metadata": {},
   "outputs": [
    {
     "data": {
      "text/plain": [
       "Text(0.5,1,'WGS84 (lat/lon)')"
      ]
     },
     "execution_count": 12,
     "metadata": {},
     "output_type": "execute_result"
    },
    {
     "data": {
      "image/png": "[encoded data removed]",
      "text/plain": [
       "<matplotlib.figure.Figure at 0x7f9d72bd0e10>"
      ]
     },
     "metadata": {},
     "output_type": "display_data"
    }
   ],
   "source": [
    "ax = world.plot()\n",
    "ax.set_title(\"WGS84 (lat/lon)\")"
   ]
  },
  {
   "cell_type": "code",
   "execution_count": 13,
   "metadata": {},
   "outputs": [
    {
     "data": {
      "text/plain": [
       "{'init': 'epsg:4326'}"
      ]
     },
     "execution_count": 13,
     "metadata": {},
     "output_type": "execute_result"
    }
   ],
   "source": [
    "world.crs"
   ]
  },
  {
   "cell_type": "code",
   "execution_count": 14,
   "metadata": {
    "collapsed": true
   },
   "outputs": [],
   "source": [
    "# Re asignación\n",
    "#world.crs = {'init' :'epsg:4326'}"
   ]
  },
  {
   "cell_type": "code",
   "execution_count": 15,
   "metadata": {},
   "outputs": [
    {
     "data": {
      "text/plain": [
       "{'init': 'epsg:3395'}"
      ]
     },
     "execution_count": 15,
     "metadata": {},
     "output_type": "execute_result"
    }
   ],
   "source": [
    "## Re-proyeción\n",
    "world = world.to_crs({'init': 'epsg:3395'})\n",
    "world.crs\n"
   ]
  },
  {
   "cell_type": "code",
   "execution_count": 16,
   "metadata": {},
   "outputs": [
    {
     "data": {
      "text/plain": [
       "Text(0.5,1,'Mercator')"
      ]
     },
     "execution_count": 16,
     "metadata": {},
     "output_type": "execute_result"
    },
    {
     "data": {
      "image/png": "[encoded data removed]",
      "text/plain": [
       "<matplotlib.figure.Figure at 0x7f9d72a71da0>"
      ]
     },
     "metadata": {},
     "output_type": "display_data"
    }
   ],
   "source": [
    "ax = world.plot()\n",
    "ax.set_title(\"Mercator\")"
   ]
  },
  {
   "cell_type": "code",
   "execution_count": 17,
   "metadata": {},
   "outputs": [
    {
     "data": {
      "text/html": [
       "<div>\n",
       "<style>\n",
       "    .dataframe thead tr:only-child th {\n",
       "        text-align: right;\n",
       "    }\n",
       "\n",
       "    .dataframe thead th {\n",
       "        text-align: left;\n",
       "    }\n",
       "\n",
       "    .dataframe tbody tr th {\n",
       "        vertical-align: top;\n",
       "    }\n",
       "</style>\n",
       "<table border=\"1\" class=\"dataframe\">\n",
       "  <thead>\n",
       "    <tr style=\"text-align: right;\">\n",
       "      <th></th>\n",
       "      <th>pop_est</th>\n",
       "      <th>continent</th>\n",
       "      <th>name</th>\n",
       "      <th>iso_a3</th>\n",
       "      <th>gdp_md_est</th>\n",
       "      <th>geometry</th>\n",
       "    </tr>\n",
       "  </thead>\n",
       "  <tbody>\n",
       "    <tr>\n",
       "      <th>0</th>\n",
       "      <td>28400000.0</td>\n",
       "      <td>Asia</td>\n",
       "      <td>Afghanistan</td>\n",
       "      <td>AFG</td>\n",
       "      <td>22270.0</td>\n",
       "      <td>POLYGON ((6813956.989691116 4227673.561898688,...</td>\n",
       "    </tr>\n",
       "    <tr>\n",
       "      <th>1</th>\n",
       "      <td>12799293.0</td>\n",
       "      <td>Africa</td>\n",
       "      <td>Angola</td>\n",
       "      <td>AGO</td>\n",
       "      <td>110300.0</td>\n",
       "      <td>(POLYGON ((1817460.822852346 -651055.117933030...</td>\n",
       "    </tr>\n",
       "    <tr>\n",
       "      <th>2</th>\n",
       "      <td>3639453.0</td>\n",
       "      <td>Europe</td>\n",
       "      <td>Albania</td>\n",
       "      <td>ALB</td>\n",
       "      <td>21810.0</td>\n",
       "      <td>POLYGON ((2292095.859226788 5110825.730490864,...</td>\n",
       "    </tr>\n",
       "    <tr>\n",
       "      <th>3</th>\n",
       "      <td>4798491.0</td>\n",
       "      <td>Asia</td>\n",
       "      <td>United Arab Emirates</td>\n",
       "      <td>ARE</td>\n",
       "      <td>184300.0</td>\n",
       "      <td>POLYGON ((5741805.753758118 2765811.384651244,...</td>\n",
       "    </tr>\n",
       "    <tr>\n",
       "      <th>4</th>\n",
       "      <td>40913584.0</td>\n",
       "      <td>South America</td>\n",
       "      <td>Argentina</td>\n",
       "      <td>ARG</td>\n",
       "      <td>573900.0</td>\n",
       "      <td>(POLYGON ((-7291426.646959423 -7365665.1311332...</td>\n",
       "    </tr>\n",
       "  </tbody>\n",
       "</table>\n",
       "</div>"
      ],
      "text/plain": [
       "      pop_est      continent                  name iso_a3  gdp_md_est  \\\n",
       "0  28400000.0           Asia           Afghanistan    AFG     22270.0   \n",
       "1  12799293.0         Africa                Angola    AGO    110300.0   \n",
       "2   3639453.0         Europe               Albania    ALB     21810.0   \n",
       "3   4798491.0           Asia  United Arab Emirates    ARE    184300.0   \n",
       "4  40913584.0  South America             Argentina    ARG    573900.0   \n",
       "\n",
       "                                            geometry  \n",
       "0  POLYGON ((6813956.989691116 4227673.561898688,...  \n",
       "1  (POLYGON ((1817460.822852346 -651055.117933030...  \n",
       "2  POLYGON ((2292095.859226788 5110825.730490864,...  \n",
       "3  POLYGON ((5741805.753758118 2765811.384651244,...  \n",
       "4  (POLYGON ((-7291426.646959423 -7365665.1311332...  "
      ]
     },
     "execution_count": 17,
     "metadata": {},
     "output_type": "execute_result"
    }
   ],
   "source": [
    "world.head()"
   ]
  },
  {
   "cell_type": "code",
   "execution_count": 18,
   "metadata": {},
   "outputs": [
    {
     "data": {
      "text/plain": [
       "<matplotlib.axes._subplots.AxesSubplot at 0x7f9d72af0cf8>"
      ]
     },
     "execution_count": 18,
     "metadata": {},
     "output_type": "execute_result"
    },
    {
     "data": {
      "image/png": "[encoded data removed]",
      "text/plain": [
       "<matplotlib.figure.Figure at 0x7f9d729afa20>"
      ]
     },
     "metadata": {},
     "output_type": "display_data"
    }
   ],
   "source": [
    "world.to_crs({'proj': 'merc'}).plot()"
   ]
  },
  {
   "cell_type": "code",
   "execution_count": 19,
   "metadata": {},
   "outputs": [
    {
     "data": {
      "text/plain": [
       "<matplotlib.axes._subplots.AxesSubplot at 0x7f9d72b17358>"
      ]
     },
     "execution_count": 19,
     "metadata": {},
     "output_type": "execute_result"
    },
    {
     "data": {
      "image/png": "[encoded data removed]",
      "text/plain": [
       "<matplotlib.figure.Figure at 0x7f9d72b206d8>"
      ]
     },
     "metadata": {},
     "output_type": "display_data"
    }
   ],
   "source": [
    "# Transverse mercator\n",
    "world.to_crs({'proj': 'tmerc'}).plot()"
   ]
  },
  {
   "cell_type": "code",
   "execution_count": 20,
   "metadata": {},
   "outputs": [
    {
     "data": {
      "text/plain": [
       "<matplotlib.axes._subplots.AxesSubplot at 0x7f9d726fef60>"
      ]
     },
     "execution_count": 20,
     "metadata": {},
     "output_type": "execute_result"
    },
    {
     "data": {
      "image/png": "[encoded data removed]",
      "text/plain": [
       "<matplotlib.figure.Figure at 0x7f9d72b5e8d0>"
      ]
     },
     "metadata": {},
     "output_type": "display_data"
    }
   ],
   "source": [
    "#Albert Equal Area\n",
    "world.to_crs({'proj': 'aea'}).plot()"
   ]
  },
  {
   "cell_type": "code",
   "execution_count": null,
   "metadata": {
    "collapsed": true
   },
   "outputs": [],
   "source": []
  },
  {
   "cell_type": "markdown",
   "metadata": {},
   "source": [
    "CRS are referred to using codes called proj4 strings. You can find the codes for most commonly used projections from www.spatialreference.org or remotesensing.org."
   ]
  },
  {
   "cell_type": "markdown",
   "metadata": {},
   "source": [
    "## Ok, qué es una geoserie?"
   ]
  },
  {
   "cell_type": "code",
   "execution_count": 21,
   "metadata": {
    "collapsed": true
   },
   "outputs": [],
   "source": [
    "from shapely.geometry import Point, LineString, MultiPoint, MultiLineString, Polygon, MultiPolygon"
   ]
  },
  {
   "cell_type": "code",
   "execution_count": 22,
   "metadata": {},
   "outputs": [
    {
     "data": {
      "text/plain": [
       "<matplotlib.axes._subplots.AxesSubplot at 0x7f9d72afe0f0>"
      ]
     },
     "execution_count": 22,
     "metadata": {},
     "output_type": "execute_result"
    },
    {
     "data": {
      "image/png": "[encoded data removed]",
      "text/plain": [
       "<matplotlib.figure.Figure at 0x7f9d72704dd8>"
      ]
     },
     "metadata": {},
     "output_type": "display_data"
    }
   ],
   "source": [
    "p1 = Point([0,0])\n",
    "p2 = Point([0,1])\n",
    "p3 = Point([1,1])\n",
    "gpd.GeoSeries([p1,p2,p3]).plot()"
   ]
  },
  {
   "cell_type": "code",
   "execution_count": 23,
   "metadata": {},
   "outputs": [
    {
     "data": {
      "text/plain": [
       "<matplotlib.axes._subplots.AxesSubplot at 0x7f9d729144a8>"
      ]
     },
     "execution_count": 23,
     "metadata": {},
     "output_type": "execute_result"
    },
    {
     "data": {
      "image/png": "[encoded data removed]",
      "text/plain": [
       "<matplotlib.figure.Figure at 0x7f9d7290c588>"
      ]
     },
     "metadata": {},
     "output_type": "display_data"
    }
   ],
   "source": [
    "l1 = LineString([[1,2],[2,0]])\n",
    "l2 = LineString([[3,1],[4,3]])\n",
    "gpd.GeoSeries([l1,l2]).plot()"
   ]
  },
  {
   "cell_type": "code",
   "execution_count": 24,
   "metadata": {},
   "outputs": [
    {
     "data": {
      "text/plain": [
       "<matplotlib.axes._subplots.AxesSubplot at 0x7f9d726b23c8>"
      ]
     },
     "execution_count": 24,
     "metadata": {},
     "output_type": "execute_result"
    },
    {
     "data": {
      "image/png": "[encoded data removed]",
      "text/plain": [
       "<matplotlib.figure.Figure at 0x7f9d727e5c50>"
      ]
     },
     "metadata": {},
     "output_type": "display_data"
    }
   ],
   "source": [
    "P1 = Polygon([[3,4],[4,3],[4,4]])\n",
    "P2 = Polygon([[5,0],[6,-1],[7,-1],[8,0],[7,1],[6,1]])\n",
    "gpd.GeoSeries([P1,P2]).plot()"
   ]
  },
  {
   "cell_type": "code",
   "execution_count": null,
   "metadata": {
    "collapsed": true
   },
   "outputs": [],
   "source": []
  },
  {
   "cell_type": "code",
   "execution_count": 25,
   "metadata": {},
   "outputs": [
    {
     "data": {
      "text/plain": [
       "<matplotlib.axes._subplots.AxesSubplot at 0x7f9d72631080>"
      ]
     },
     "execution_count": 25,
     "metadata": {},
     "output_type": "execute_result"
    },
    {
     "data": {
      "image/png": "[encoded data removed]",
      "text/plain": [
       "<matplotlib.figure.Figure at 0x7f9d726d1780>"
      ]
     },
     "metadata": {},
     "output_type": "display_data"
    }
   ],
   "source": [
    "mp = MultiPoint([p1,p2,p3])\n",
    "ml = MultiLineString([l1,l2])\n",
    "mP = MultiPolygon([P1,P2])\n",
    "gpd.GeoSeries([mp,ml,mP]).plot()"
   ]
  },
  {
   "cell_type": "code",
   "execution_count": 26,
   "metadata": {},
   "outputs": [
    {
     "data": {
      "text/plain": [
       "0              (POINT (0 0), POINT (0 1), POINT (1 1))\n",
       "1       (LINESTRING (1 2, 2 0), LINESTRING (3 1, 4 3))\n",
       "2    (POLYGON ((3 4, 4 3, 4 4, 3 4)), POLYGON ((5 0...\n",
       "dtype: object"
      ]
     },
     "execution_count": 26,
     "metadata": {},
     "output_type": "execute_result"
    }
   ],
   "source": [
    "gpd.GeoSeries([mp,ml,mP])"
   ]
  },
  {
   "cell_type": "code",
   "execution_count": 129,
   "metadata": {},
   "outputs": [
    {
     "data": {
      "text/html": [
       "<div>\n",
       "<style>\n",
       "    .dataframe thead tr:only-child th {\n",
       "        text-align: right;\n",
       "    }\n",
       "\n",
       "    .dataframe thead th {\n",
       "        text-align: left;\n",
       "    }\n",
       "\n",
       "    .dataframe tbody tr th {\n",
       "        vertical-align: top;\n",
       "    }\n",
       "</style>\n",
       "<table border=\"1\" class=\"dataframe\">\n",
       "  <thead>\n",
       "    <tr style=\"text-align: right;\">\n",
       "      <th></th>\n",
       "      <th>A</th>\n",
       "      <th>B</th>\n",
       "      <th>C</th>\n",
       "    </tr>\n",
       "  </thead>\n",
       "  <tbody>\n",
       "    <tr>\n",
       "      <th>0</th>\n",
       "      <td>0.172459</td>\n",
       "      <td>0.340769</td>\n",
       "      <td>0.898046</td>\n",
       "    </tr>\n",
       "    <tr>\n",
       "      <th>1</th>\n",
       "      <td>0.147707</td>\n",
       "      <td>0.046950</td>\n",
       "      <td>0.469888</td>\n",
       "    </tr>\n",
       "    <tr>\n",
       "      <th>2</th>\n",
       "      <td>0.236202</td>\n",
       "      <td>0.119958</td>\n",
       "      <td>0.448978</td>\n",
       "    </tr>\n",
       "  </tbody>\n",
       "</table>\n",
       "</div>"
      ],
      "text/plain": [
       "          A         B         C\n",
       "0  0.172459  0.340769  0.898046\n",
       "1  0.147707  0.046950  0.469888\n",
       "2  0.236202  0.119958  0.448978"
      ]
     },
     "execution_count": 129,
     "metadata": {},
     "output_type": "execute_result"
    }
   ],
   "source": [
    "## qué es un GeoDataFrame?\n",
    "\n",
    "u = pd.DataFrame(np.random.random(size=[3,3]),columns=['A','B','C'])\n",
    "u"
   ]
  },
  {
   "cell_type": "code",
   "execution_count": 130,
   "metadata": {},
   "outputs": [
    {
     "data": {
      "text/html": [
       "<div>\n",
       "<style>\n",
       "    .dataframe thead tr:only-child th {\n",
       "        text-align: right;\n",
       "    }\n",
       "\n",
       "    .dataframe thead th {\n",
       "        text-align: left;\n",
       "    }\n",
       "\n",
       "    .dataframe tbody tr th {\n",
       "        vertical-align: top;\n",
       "    }\n",
       "</style>\n",
       "<table border=\"1\" class=\"dataframe\">\n",
       "  <thead>\n",
       "    <tr style=\"text-align: right;\">\n",
       "      <th></th>\n",
       "      <th>A</th>\n",
       "      <th>B</th>\n",
       "      <th>C</th>\n",
       "      <th>geometry</th>\n",
       "    </tr>\n",
       "  </thead>\n",
       "  <tbody>\n",
       "    <tr>\n",
       "      <th>0</th>\n",
       "      <td>0.172459</td>\n",
       "      <td>0.340769</td>\n",
       "      <td>0.898046</td>\n",
       "      <td>(POINT (0 0), POINT (0 1), POINT (1 1))</td>\n",
       "    </tr>\n",
       "    <tr>\n",
       "      <th>1</th>\n",
       "      <td>0.147707</td>\n",
       "      <td>0.046950</td>\n",
       "      <td>0.469888</td>\n",
       "      <td>(LINESTRING (1 2, 2 0), LINESTRING (3 1, 4 3))</td>\n",
       "    </tr>\n",
       "    <tr>\n",
       "      <th>2</th>\n",
       "      <td>0.236202</td>\n",
       "      <td>0.119958</td>\n",
       "      <td>0.448978</td>\n",
       "      <td>(POLYGON ((3 4, 4 3, 4 4, 3 4)), POLYGON ((5 0...</td>\n",
       "    </tr>\n",
       "  </tbody>\n",
       "</table>\n",
       "</div>"
      ],
      "text/plain": [
       "          A         B         C  \\\n",
       "0  0.172459  0.340769  0.898046   \n",
       "1  0.147707  0.046950  0.469888   \n",
       "2  0.236202  0.119958  0.448978   \n",
       "\n",
       "                                            geometry  \n",
       "0            (POINT (0 0), POINT (0 1), POINT (1 1))  \n",
       "1     (LINESTRING (1 2, 2 0), LINESTRING (3 1, 4 3))  \n",
       "2  (POLYGON ((3 4, 4 3, 4 4, 3 4)), POLYGON ((5 0...  "
      ]
     },
     "execution_count": 130,
     "metadata": {},
     "output_type": "execute_result"
    }
   ],
   "source": [
    "u = gpd.GeoDataFrame(u, geometry = gpd.GeoSeries([mp,ml,mP]))\n",
    "u"
   ]
  },
  {
   "cell_type": "code",
   "execution_count": 131,
   "metadata": {},
   "outputs": [
    {
     "data": {
      "text/html": [
       "<div>\n",
       "<style>\n",
       "    .dataframe thead tr:only-child th {\n",
       "        text-align: right;\n",
       "    }\n",
       "\n",
       "    .dataframe thead th {\n",
       "        text-align: left;\n",
       "    }\n",
       "\n",
       "    .dataframe tbody tr th {\n",
       "        vertical-align: top;\n",
       "    }\n",
       "</style>\n",
       "<table border=\"1\" class=\"dataframe\">\n",
       "  <thead>\n",
       "    <tr style=\"text-align: right;\">\n",
       "      <th></th>\n",
       "      <th>Unnamed: 0</th>\n",
       "      <th>timestamp</th>\n",
       "      <th>x</th>\n",
       "      <th>y</th>\n",
       "      <th>speed</th>\n",
       "      <th>provider</th>\n",
       "    </tr>\n",
       "  </thead>\n",
       "  <tbody>\n",
       "    <tr>\n",
       "      <th>100167</th>\n",
       "      <td>9631016</td>\n",
       "      <td>2017-03-30T19:57:24Z</td>\n",
       "      <td>-103.675801</td>\n",
       "      <td>19.802949</td>\n",
       "      <td>67.000</td>\n",
       "      <td>1</td>\n",
       "    </tr>\n",
       "    <tr>\n",
       "      <th>164598</th>\n",
       "      <td>1700364</td>\n",
       "      <td>2017-03-30T02:56:10Z</td>\n",
       "      <td>-87.065445</td>\n",
       "      <td>20.668056</td>\n",
       "      <td>2.268</td>\n",
       "      <td>4</td>\n",
       "    </tr>\n",
       "    <tr>\n",
       "      <th>330585</th>\n",
       "      <td>190837</td>\n",
       "      <td>2017-03-30T00:18:07Z</td>\n",
       "      <td>-100.504210</td>\n",
       "      <td>21.024270</td>\n",
       "      <td>0.000</td>\n",
       "      <td>2</td>\n",
       "    </tr>\n",
       "    <tr>\n",
       "      <th>459082</th>\n",
       "      <td>11079938</td>\n",
       "      <td>2017-03-30T22:25:29Z</td>\n",
       "      <td>-99.190620</td>\n",
       "      <td>19.505728</td>\n",
       "      <td>31.716</td>\n",
       "      <td>4</td>\n",
       "    </tr>\n",
       "    <tr>\n",
       "      <th>416119</th>\n",
       "      <td>378840</td>\n",
       "      <td>2017-03-30T00:36:13Z</td>\n",
       "      <td>-99.040950</td>\n",
       "      <td>19.627663</td>\n",
       "      <td>0.000</td>\n",
       "      <td>4</td>\n",
       "    </tr>\n",
       "  </tbody>\n",
       "</table>\n",
       "</div>"
      ],
      "text/plain": [
       "        Unnamed: 0             timestamp           x          y   speed  \\\n",
       "100167     9631016  2017-03-30T19:57:24Z -103.675801  19.802949  67.000   \n",
       "164598     1700364  2017-03-30T02:56:10Z  -87.065445  20.668056   2.268   \n",
       "330585      190837  2017-03-30T00:18:07Z -100.504210  21.024270   0.000   \n",
       "459082    11079938  2017-03-30T22:25:29Z  -99.190620  19.505728  31.716   \n",
       "416119      378840  2017-03-30T00:36:13Z  -99.040950  19.627663   0.000   \n",
       "\n",
       "        provider  \n",
       "100167         1  \n",
       "164598         4  \n",
       "330585         2  \n",
       "459082         4  \n",
       "416119         4  "
      ]
     },
     "execution_count": 131,
     "metadata": {},
     "output_type": "execute_result"
    }
   ],
   "source": [
    "df = pd.read_csv('data/probe.probe').sample(10000)\n",
    "df.head()"
   ]
  },
  {
   "cell_type": "code",
   "execution_count": 30,
   "metadata": {
    "collapsed": true
   },
   "outputs": [],
   "source": [
    "def hacer_punto(row):\n",
    "    p = Point(row.x,row.y)\n",
    "    return p\n",
    "df['geometry'] = df.apply(hacer_punto,axis=1)\n",
    "df = gpd.GeoDataFrame(df,geometry='geometry')"
   ]
  },
  {
   "cell_type": "code",
   "execution_count": 31,
   "metadata": {},
   "outputs": [
    {
     "data": {
      "text/plain": [
       "geopandas.geodataframe.GeoDataFrame"
      ]
     },
     "execution_count": 31,
     "metadata": {},
     "output_type": "execute_result"
    }
   ],
   "source": [
    "type(df)"
   ]
  },
  {
   "cell_type": "code",
   "execution_count": 32,
   "metadata": {},
   "outputs": [
    {
     "data": {
      "text/plain": [
       "<matplotlib.axes._subplots.AxesSubplot at 0x7f9d6c282cc0>"
      ]
     },
     "execution_count": 32,
     "metadata": {},
     "output_type": "execute_result"
    },
    {
     "data": {
      "image/png": "[encoded data removed]",
      "text/plain": [
       "<matplotlib.figure.Figure at 0x7f9da1035c18>"
      ]
     },
     "metadata": {},
     "output_type": "display_data"
    }
   ],
   "source": [
    "df.plot()"
   ]
  },
  {
   "cell_type": "code",
   "execution_count": 33,
   "metadata": {
    "collapsed": true
   },
   "outputs": [],
   "source": [
    "df.crs = {'init' :'epsg:4326'}"
   ]
  },
  {
   "cell_type": "markdown",
   "metadata": {},
   "source": [
    "# Manipulaciones geometricas"
   ]
  },
  {
   "cell_type": "code",
   "execution_count": 34,
   "metadata": {},
   "outputs": [
    {
     "data": {
      "text/html": [
       "<div>\n",
       "<style>\n",
       "    .dataframe thead tr:only-child th {\n",
       "        text-align: right;\n",
       "    }\n",
       "\n",
       "    .dataframe thead th {\n",
       "        text-align: left;\n",
       "    }\n",
       "\n",
       "    .dataframe tbody tr th {\n",
       "        vertical-align: top;\n",
       "    }\n",
       "</style>\n",
       "<table border=\"1\" class=\"dataframe\">\n",
       "  <thead>\n",
       "    <tr style=\"text-align: right;\">\n",
       "      <th></th>\n",
       "      <th>CVE_ENT</th>\n",
       "      <th>CVE_MUN</th>\n",
       "      <th>NOM_MUN</th>\n",
       "      <th>OID</th>\n",
       "      <th>geometry</th>\n",
       "    </tr>\n",
       "  </thead>\n",
       "  <tbody>\n",
       "    <tr>\n",
       "      <th>0</th>\n",
       "      <td>05</td>\n",
       "      <td>035</td>\n",
       "      <td>Torre�n</td>\n",
       "      <td>2250</td>\n",
       "      <td>(POLYGON ((-103.4279682574413 25.3010926774777...</td>\n",
       "    </tr>\n",
       "    <tr>\n",
       "      <th>1</th>\n",
       "      <td>05</td>\n",
       "      <td>024</td>\n",
       "      <td>Parras</td>\n",
       "      <td>2251</td>\n",
       "      <td>POLYGON ((-102.150401292488 26.42176909598752,...</td>\n",
       "    </tr>\n",
       "    <tr>\n",
       "      <th>2</th>\n",
       "      <td>05</td>\n",
       "      <td>017</td>\n",
       "      <td>Matamoros</td>\n",
       "      <td>2252</td>\n",
       "      <td>POLYGON ((-103.2225245672591 25.75687150448032...</td>\n",
       "    </tr>\n",
       "    <tr>\n",
       "      <th>3</th>\n",
       "      <td>05</td>\n",
       "      <td>038</td>\n",
       "      <td>Zaragoza</td>\n",
       "      <td>2253</td>\n",
       "      <td>POLYGON ((-101.8846877927711 28.7959789025173,...</td>\n",
       "    </tr>\n",
       "    <tr>\n",
       "      <th>4</th>\n",
       "      <td>05</td>\n",
       "      <td>037</td>\n",
       "      <td>Villa Uni�n</td>\n",
       "      <td>2254</td>\n",
       "      <td>POLYGON ((-100.6635448364334 28.22782077655265...</td>\n",
       "    </tr>\n",
       "    <tr>\n",
       "      <th>5</th>\n",
       "      <td>05</td>\n",
       "      <td>036</td>\n",
       "      <td>Viesca</td>\n",
       "      <td>2255</td>\n",
       "      <td>POLYGON ((-102.8860226078305 25.62319828897513...</td>\n",
       "    </tr>\n",
       "    <tr>\n",
       "      <th>6</th>\n",
       "      <td>05</td>\n",
       "      <td>034</td>\n",
       "      <td>Sierra Mojada</td>\n",
       "      <td>2256</td>\n",
       "      <td>POLYGON ((-103.4872746089281 28.48254470918585...</td>\n",
       "    </tr>\n",
       "    <tr>\n",
       "      <th>7</th>\n",
       "      <td>05</td>\n",
       "      <td>033</td>\n",
       "      <td>San Pedro</td>\n",
       "      <td>2257</td>\n",
       "      <td>POLYGON ((-102.4744868719199 26.36738695807912...</td>\n",
       "    </tr>\n",
       "    <tr>\n",
       "      <th>8</th>\n",
       "      <td>05</td>\n",
       "      <td>032</td>\n",
       "      <td>San Juan de Sabinas</td>\n",
       "      <td>2258</td>\n",
       "      <td>POLYGON ((-101.5389054887465 28.0896818427285,...</td>\n",
       "    </tr>\n",
       "    <tr>\n",
       "      <th>9</th>\n",
       "      <td>05</td>\n",
       "      <td>031</td>\n",
       "      <td>San Buenaventura</td>\n",
       "      <td>2259</td>\n",
       "      <td>POLYGON ((-102.412877083545 28.14203775316171,...</td>\n",
       "    </tr>\n",
       "    <tr>\n",
       "      <th>10</th>\n",
       "      <td>05</td>\n",
       "      <td>030</td>\n",
       "      <td>Saltillo</td>\n",
       "      <td>2260</td>\n",
       "      <td>POLYGON ((-100.9477468469273 25.52258556696107...</td>\n",
       "    </tr>\n",
       "    <tr>\n",
       "      <th>11</th>\n",
       "      <td>05</td>\n",
       "      <td>029</td>\n",
       "      <td>Sacramento</td>\n",
       "      <td>2261</td>\n",
       "      <td>POLYGON ((-101.7312863200032 27.03591230066234...</td>\n",
       "    </tr>\n",
       "    <tr>\n",
       "      <th>12</th>\n",
       "      <td>05</td>\n",
       "      <td>028</td>\n",
       "      <td>Sabinas</td>\n",
       "      <td>2262</td>\n",
       "      <td>POLYGON ((-101.152806291786 28.23480946014926,...</td>\n",
       "    </tr>\n",
       "    <tr>\n",
       "      <th>13</th>\n",
       "      <td>05</td>\n",
       "      <td>027</td>\n",
       "      <td>Ramos Arizpe</td>\n",
       "      <td>2263</td>\n",
       "      <td>POLYGON ((-100.7775366458498 25.63824585072837...</td>\n",
       "    </tr>\n",
       "    <tr>\n",
       "      <th>14</th>\n",
       "      <td>05</td>\n",
       "      <td>026</td>\n",
       "      <td>Progreso</td>\n",
       "      <td>2264</td>\n",
       "      <td>POLYGON ((-101.1250427330887 27.64302781789101...</td>\n",
       "    </tr>\n",
       "    <tr>\n",
       "      <th>15</th>\n",
       "      <td>05</td>\n",
       "      <td>025</td>\n",
       "      <td>Piedras Negras</td>\n",
       "      <td>2265</td>\n",
       "      <td>POLYGON ((-100.6418508137359 28.93230723355292...</td>\n",
       "    </tr>\n",
       "    <tr>\n",
       "      <th>16</th>\n",
       "      <td>05</td>\n",
       "      <td>023</td>\n",
       "      <td>Ocampo</td>\n",
       "      <td>2266</td>\n",
       "      <td>POLYGON ((-103.5307149471118 27.18264147398019...</td>\n",
       "    </tr>\n",
       "    <tr>\n",
       "      <th>17</th>\n",
       "      <td>05</td>\n",
       "      <td>022</td>\n",
       "      <td>Nava</td>\n",
       "      <td>2267</td>\n",
       "      <td>POLYGON ((-100.8116906642597 28.48364390215005...</td>\n",
       "    </tr>\n",
       "    <tr>\n",
       "      <th>18</th>\n",
       "      <td>05</td>\n",
       "      <td>021</td>\n",
       "      <td>Nadadores</td>\n",
       "      <td>2268</td>\n",
       "      <td>POLYGON ((-101.6571482161427 27.16483424721575...</td>\n",
       "    </tr>\n",
       "    <tr>\n",
       "      <th>19</th>\n",
       "      <td>05</td>\n",
       "      <td>020</td>\n",
       "      <td>M�zquiz</td>\n",
       "      <td>2269</td>\n",
       "      <td>POLYGON ((-102.4788014760201 28.95685282054901...</td>\n",
       "    </tr>\n",
       "    <tr>\n",
       "      <th>20</th>\n",
       "      <td>05</td>\n",
       "      <td>019</td>\n",
       "      <td>Morelos</td>\n",
       "      <td>2270</td>\n",
       "      <td>POLYGON ((-100.893721019793 28.44608244591911,...</td>\n",
       "    </tr>\n",
       "    <tr>\n",
       "      <th>21</th>\n",
       "      <td>05</td>\n",
       "      <td>018</td>\n",
       "      <td>Monclova</td>\n",
       "      <td>2271</td>\n",
       "      <td>POLYGON ((-101.1170613923369 26.6996873077993,...</td>\n",
       "    </tr>\n",
       "    <tr>\n",
       "      <th>22</th>\n",
       "      <td>05</td>\n",
       "      <td>016</td>\n",
       "      <td>Lamadrid</td>\n",
       "      <td>2272</td>\n",
       "      <td>POLYGON ((-101.9426508014759 27.02389111231709...</td>\n",
       "    </tr>\n",
       "    <tr>\n",
       "      <th>23</th>\n",
       "      <td>05</td>\n",
       "      <td>015</td>\n",
       "      <td>Ju�rez</td>\n",
       "      <td>2273</td>\n",
       "      <td>POLYGON ((-100.3532269479814 27.67294901748174...</td>\n",
       "    </tr>\n",
       "    <tr>\n",
       "      <th>24</th>\n",
       "      <td>05</td>\n",
       "      <td>014</td>\n",
       "      <td>Jim�nez</td>\n",
       "      <td>2274</td>\n",
       "      <td>POLYGON ((-101.2537090508984 29.06427329075336...</td>\n",
       "    </tr>\n",
       "    <tr>\n",
       "      <th>25</th>\n",
       "      <td>05</td>\n",
       "      <td>013</td>\n",
       "      <td>Hidalgo</td>\n",
       "      <td>2275</td>\n",
       "      <td>POLYGON ((-99.93737538989782 27.94128263123953...</td>\n",
       "    </tr>\n",
       "    <tr>\n",
       "      <th>26</th>\n",
       "      <td>05</td>\n",
       "      <td>012</td>\n",
       "      <td>Guerrero</td>\n",
       "      <td>2276</td>\n",
       "      <td>POLYGON ((-100.1851408892914 27.89684564257903...</td>\n",
       "    </tr>\n",
       "    <tr>\n",
       "      <th>27</th>\n",
       "      <td>05</td>\n",
       "      <td>011</td>\n",
       "      <td>General Cepeda</td>\n",
       "      <td>2277</td>\n",
       "      <td>POLYGON ((-101.32597080579 25.40168272727954, ...</td>\n",
       "    </tr>\n",
       "    <tr>\n",
       "      <th>28</th>\n",
       "      <td>05</td>\n",
       "      <td>010</td>\n",
       "      <td>Frontera</td>\n",
       "      <td>2278</td>\n",
       "      <td>POLYGON ((-101.3487953823225 27.06407133446036...</td>\n",
       "    </tr>\n",
       "    <tr>\n",
       "      <th>29</th>\n",
       "      <td>05</td>\n",
       "      <td>009</td>\n",
       "      <td>Francisco I. Madero</td>\n",
       "      <td>2279</td>\n",
       "      <td>POLYGON ((-103.1344721322094 26.72361602141673...</td>\n",
       "    </tr>\n",
       "    <tr>\n",
       "      <th>30</th>\n",
       "      <td>05</td>\n",
       "      <td>008</td>\n",
       "      <td>Escobedo</td>\n",
       "      <td>2280</td>\n",
       "      <td>POLYGON ((-101.4152713808619 27.19227102982196...</td>\n",
       "    </tr>\n",
       "    <tr>\n",
       "      <th>31</th>\n",
       "      <td>05</td>\n",
       "      <td>007</td>\n",
       "      <td>Cuatro Ci�negas</td>\n",
       "      <td>2281</td>\n",
       "      <td>POLYGON ((-103.1646681920209 26.75409913774051...</td>\n",
       "    </tr>\n",
       "    <tr>\n",
       "      <th>32</th>\n",
       "      <td>05</td>\n",
       "      <td>006</td>\n",
       "      <td>Casta�os</td>\n",
       "      <td>2282</td>\n",
       "      <td>POLYGON ((-101.6531951256682 26.85778445569903...</td>\n",
       "    </tr>\n",
       "    <tr>\n",
       "      <th>33</th>\n",
       "      <td>05</td>\n",
       "      <td>005</td>\n",
       "      <td>Candela</td>\n",
       "      <td>2283</td>\n",
       "      <td>POLYGON ((-100.679593289367 27.10992167121996,...</td>\n",
       "    </tr>\n",
       "    <tr>\n",
       "      <th>34</th>\n",
       "      <td>05</td>\n",
       "      <td>004</td>\n",
       "      <td>Arteaga</td>\n",
       "      <td>2284</td>\n",
       "      <td>POLYGON ((-100.7247421603648 25.5358381414663,...</td>\n",
       "    </tr>\n",
       "    <tr>\n",
       "      <th>35</th>\n",
       "      <td>05</td>\n",
       "      <td>003</td>\n",
       "      <td>Allende</td>\n",
       "      <td>2285</td>\n",
       "      <td>POLYGON ((-100.8785188921883 28.20507531680126...</td>\n",
       "    </tr>\n",
       "    <tr>\n",
       "      <th>36</th>\n",
       "      <td>05</td>\n",
       "      <td>002</td>\n",
       "      <td>Acu�a</td>\n",
       "      <td>2286</td>\n",
       "      <td>POLYGON ((-102.3107926469075 29.87694857356027...</td>\n",
       "    </tr>\n",
       "    <tr>\n",
       "      <th>37</th>\n",
       "      <td>05</td>\n",
       "      <td>001</td>\n",
       "      <td>Abasolo</td>\n",
       "      <td>2287</td>\n",
       "      <td>POLYGON ((-101.3662370668009 27.22286386431462...</td>\n",
       "    </tr>\n",
       "  </tbody>\n",
       "</table>\n",
       "</div>"
      ],
      "text/plain": [
       "   CVE_ENT CVE_MUN              NOM_MUN   OID  \\\n",
       "0       05     035              Torre�n  2250   \n",
       "1       05     024               Parras  2251   \n",
       "2       05     017            Matamoros  2252   \n",
       "3       05     038             Zaragoza  2253   \n",
       "4       05     037          Villa Uni�n  2254   \n",
       "5       05     036               Viesca  2255   \n",
       "6       05     034        Sierra Mojada  2256   \n",
       "7       05     033            San Pedro  2257   \n",
       "8       05     032  San Juan de Sabinas  2258   \n",
       "9       05     031     San Buenaventura  2259   \n",
       "10      05     030             Saltillo  2260   \n",
       "11      05     029           Sacramento  2261   \n",
       "12      05     028              Sabinas  2262   \n",
       "13      05     027         Ramos Arizpe  2263   \n",
       "14      05     026             Progreso  2264   \n",
       "15      05     025       Piedras Negras  2265   \n",
       "16      05     023               Ocampo  2266   \n",
       "17      05     022                 Nava  2267   \n",
       "18      05     021            Nadadores  2268   \n",
       "19      05     020              M�zquiz  2269   \n",
       "20      05     019              Morelos  2270   \n",
       "21      05     018             Monclova  2271   \n",
       "22      05     016             Lamadrid  2272   \n",
       "23      05     015               Ju�rez  2273   \n",
       "24      05     014              Jim�nez  2274   \n",
       "25      05     013              Hidalgo  2275   \n",
       "26      05     012             Guerrero  2276   \n",
       "27      05     011       General Cepeda  2277   \n",
       "28      05     010             Frontera  2278   \n",
       "29      05     009  Francisco I. Madero  2279   \n",
       "30      05     008             Escobedo  2280   \n",
       "31      05     007      Cuatro Ci�negas  2281   \n",
       "32      05     006             Casta�os  2282   \n",
       "33      05     005              Candela  2283   \n",
       "34      05     004              Arteaga  2284   \n",
       "35      05     003              Allende  2285   \n",
       "36      05     002                Acu�a  2286   \n",
       "37      05     001              Abasolo  2287   \n",
       "\n",
       "                                             geometry  \n",
       "0   (POLYGON ((-103.4279682574413 25.3010926774777...  \n",
       "1   POLYGON ((-102.150401292488 26.42176909598752,...  \n",
       "2   POLYGON ((-103.2225245672591 25.75687150448032...  \n",
       "3   POLYGON ((-101.8846877927711 28.7959789025173,...  \n",
       "4   POLYGON ((-100.6635448364334 28.22782077655265...  \n",
       "5   POLYGON ((-102.8860226078305 25.62319828897513...  \n",
       "6   POLYGON ((-103.4872746089281 28.48254470918585...  \n",
       "7   POLYGON ((-102.4744868719199 26.36738695807912...  \n",
       "8   POLYGON ((-101.5389054887465 28.0896818427285,...  \n",
       "9   POLYGON ((-102.412877083545 28.14203775316171,...  \n",
       "10  POLYGON ((-100.9477468469273 25.52258556696107...  \n",
       "11  POLYGON ((-101.7312863200032 27.03591230066234...  \n",
       "12  POLYGON ((-101.152806291786 28.23480946014926,...  \n",
       "13  POLYGON ((-100.7775366458498 25.63824585072837...  \n",
       "14  POLYGON ((-101.1250427330887 27.64302781789101...  \n",
       "15  POLYGON ((-100.6418508137359 28.93230723355292...  \n",
       "16  POLYGON ((-103.5307149471118 27.18264147398019...  \n",
       "17  POLYGON ((-100.8116906642597 28.48364390215005...  \n",
       "18  POLYGON ((-101.6571482161427 27.16483424721575...  \n",
       "19  POLYGON ((-102.4788014760201 28.95685282054901...  \n",
       "20  POLYGON ((-100.893721019793 28.44608244591911,...  \n",
       "21  POLYGON ((-101.1170613923369 26.6996873077993,...  \n",
       "22  POLYGON ((-101.9426508014759 27.02389111231709...  \n",
       "23  POLYGON ((-100.3532269479814 27.67294901748174...  \n",
       "24  POLYGON ((-101.2537090508984 29.06427329075336...  \n",
       "25  POLYGON ((-99.93737538989782 27.94128263123953...  \n",
       "26  POLYGON ((-100.1851408892914 27.89684564257903...  \n",
       "27  POLYGON ((-101.32597080579 25.40168272727954, ...  \n",
       "28  POLYGON ((-101.3487953823225 27.06407133446036...  \n",
       "29  POLYGON ((-103.1344721322094 26.72361602141673...  \n",
       "30  POLYGON ((-101.4152713808619 27.19227102982196...  \n",
       "31  POLYGON ((-103.1646681920209 26.75409913774051...  \n",
       "32  POLYGON ((-101.6531951256682 26.85778445569903...  \n",
       "33  POLYGON ((-100.679593289367 27.10992167121996,...  \n",
       "34  POLYGON ((-100.7247421603648 25.5358381414663,...  \n",
       "35  POLYGON ((-100.8785188921883 28.20507531680126...  \n",
       "36  POLYGON ((-102.3107926469075 29.87694857356027...  \n",
       "37  POLYGON ((-101.3662370668009 27.22286386431462...  "
      ]
     },
     "execution_count": 34,
     "metadata": {},
     "output_type": "execute_result"
    }
   ],
   "source": [
    "u = pd.DataFrame(gdf.values, columns= gdf.columns)\n",
    "u"
   ]
  },
  {
   "cell_type": "code",
   "execution_count": 35,
   "metadata": {},
   "outputs": [
    {
     "data": {
      "text/plain": [
       "<matplotlib.axes._subplots.AxesSubplot at 0x7f9d6c45a9e8>"
      ]
     },
     "execution_count": 35,
     "metadata": {},
     "output_type": "execute_result"
    },
    {
     "data": {
      "image/png": "[encoded data removed]",
      "text/plain": [
       "<matplotlib.figure.Figure at 0x7f9d6c444a90>"
      ]
     },
     "metadata": {},
     "output_type": "display_data"
    }
   ],
   "source": [
    "gdf.plot()"
   ]
  },
  {
   "cell_type": "code",
   "execution_count": 36,
   "metadata": {},
   "outputs": [
    {
     "name": "stdout",
     "output_type": "stream",
     "text": [
      "     CVE_ENT CVE_MUN   NOM_MUN   OID  \\\n",
      "2270      05     018  Monclova  2271   \n",
      "\n",
      "                                               geometry  \n",
      "2270  POLYGON ((-101.1170613923369 26.6996873077993,...  \n"
     ]
    },
    {
     "data": {
      "text/plain": [
       "<matplotlib.axes._subplots.AxesSubplot at 0x7f9d6ecb14a8>"
      ]
     },
     "execution_count": 36,
     "metadata": {},
     "output_type": "execute_result"
    },
    {
     "data": {
      "image/png": "[encoded data removed]",
      "text/plain": [
       "<matplotlib.figure.Figure at 0x7f9d6c45a550>"
      ]
     },
     "metadata": {},
     "output_type": "display_data"
    }
   ],
   "source": [
    "print(gdf.loc[gdf.NOM_MUN=='Monclova',:])\n",
    "gdf.loc[gdf.NOM_MUN=='Matamoros',:].plot()"
   ]
  },
  {
   "cell_type": "code",
   "execution_count": 37,
   "metadata": {},
   "outputs": [
    {
     "data": {
      "text/plain": [
       "<matplotlib.axes._subplots.AxesSubplot at 0x7f9d6bb4c5c0>"
      ]
     },
     "execution_count": 37,
     "metadata": {},
     "output_type": "execute_result"
    },
    {
     "data": {
      "image/png": "[encoded data removed]",
      "text/plain": [
       "<matplotlib.figure.Figure at 0x7f9d6eca8c18>"
      ]
     },
     "metadata": {},
     "output_type": "display_data"
    }
   ],
   "source": [
    "u = pd.DataFrame(gdf.values, columns= gdf.columns)\n",
    "u = gpd.GeoDataFrame(u,geometry = u.geometry)\n",
    "u.geometry = u.convex_hull\n",
    "u.plot(column='OID')"
   ]
  },
  {
   "cell_type": "code",
   "execution_count": null,
   "metadata": {},
   "outputs": [],
   "source": []
  },
  {
   "cell_type": "code",
   "execution_count": 38,
   "metadata": {},
   "outputs": [
    {
     "data": {
      "text/plain": [
       "<matplotlib.axes._subplots.AxesSubplot at 0x7f9d6eda23c8>"
      ]
     },
     "execution_count": 38,
     "metadata": {},
     "output_type": "execute_result"
    },
    {
     "data": {
      "image/png": "[encoded data removed]",
      "text/plain": [
       "<matplotlib.figure.Figure at 0x7f9d6ec9d438>"
      ]
     },
     "metadata": {},
     "output_type": "display_data"
    }
   ],
   "source": [
    "u = pd.DataFrame(gdf.values, columns= gdf.columns)\n",
    "u = gpd.GeoDataFrame(u,geometry = u.geometry)\n",
    "u.geometry = u.buffer(0.01)\n",
    "u.plot(column='OID')"
   ]
  },
  {
   "cell_type": "code",
   "execution_count": 39,
   "metadata": {},
   "outputs": [
    {
     "data": {
      "text/plain": [
       "<matplotlib.axes._subplots.AxesSubplot at 0x7f9d6c599a20>"
      ]
     },
     "execution_count": 39,
     "metadata": {},
     "output_type": "execute_result"
    },
    {
     "data": {
      "image/png": "[encoded data removed]",
      "text/plain": [
       "<matplotlib.figure.Figure at 0x7f9d6c1a6908>"
      ]
     },
     "metadata": {},
     "output_type": "display_data"
    }
   ],
   "source": [
    "u = pd.DataFrame(gdf.values, columns= gdf.columns)\n",
    "u = gpd.GeoDataFrame(u,geometry = u.geometry)\n",
    "u.geometry = u.centroid\n",
    "u.plot(column='OID')"
   ]
  },
  {
   "cell_type": "code",
   "execution_count": 40,
   "metadata": {},
   "outputs": [
    {
     "data": {
      "text/plain": [
       "<matplotlib.axes._subplots.AxesSubplot at 0x7f9d6ec434a8>"
      ]
     },
     "execution_count": 40,
     "metadata": {},
     "output_type": "execute_result"
    },
    {
     "data": {
      "image/png": "[encoded data removed]",
      "text/plain": [
       "<matplotlib.figure.Figure at 0x7f9d6b83e0b8>"
      ]
     },
     "metadata": {},
     "output_type": "display_data"
    }
   ],
   "source": [
    "u = pd.DataFrame(gdf.values, columns= gdf.columns)\n",
    "u = gpd.GeoDataFrame(u,geometry = u.geometry)\n",
    "u.geometry = u.representative_point()\n",
    "u.plot(column='OID')"
   ]
  },
  {
   "cell_type": "code",
   "execution_count": 41,
   "metadata": {},
   "outputs": [
    {
     "data": {
      "text/plain": [
       "<matplotlib.axes._subplots.AxesSubplot at 0x7f9d6c1a62b0>"
      ]
     },
     "execution_count": 41,
     "metadata": {},
     "output_type": "execute_result"
    },
    {
     "data": {
      "image/png": "[encoded data removed]",
      "text/plain": [
       "<matplotlib.figure.Figure at 0x7f9d6bd9c908>"
      ]
     },
     "metadata": {},
     "output_type": "display_data"
    }
   ],
   "source": [
    "u = pd.DataFrame(gdf.values, columns= gdf.columns)\n",
    "u = gpd.GeoDataFrame(u,geometry = u.geometry)\n",
    "u.geometry = u.envelope\n",
    "u.plot(column='OID')"
   ]
  },
  {
   "cell_type": "code",
   "execution_count": 42,
   "metadata": {},
   "outputs": [
    {
     "data": {
      "text/plain": [
       "<matplotlib.axes._subplots.AxesSubplot at 0x7f9d6f99f7b8>"
      ]
     },
     "execution_count": 42,
     "metadata": {},
     "output_type": "execute_result"
    },
    {
     "data": {
      "image/png": "[encoded data removed]",
      "text/plain": [
       "<matplotlib.figure.Figure at 0x7f9d6f9360f0>"
      ]
     },
     "metadata": {},
     "output_type": "display_data"
    }
   ],
   "source": [
    "u = pd.DataFrame(gdf.values, columns= gdf.columns)\n",
    "u = gpd.GeoDataFrame(u,geometry = u.geometry)\n",
    "u.geometry = u.simplify(0.1)\n",
    "u.plot(column='OID')"
   ]
  },
  {
   "cell_type": "markdown",
   "metadata": {
    "collapsed": true
   },
   "source": [
    "## Atributos\n"
   ]
  },
  {
   "cell_type": "code",
   "execution_count": 43,
   "metadata": {},
   "outputs": [
    {
     "data": {
      "text/plain": [
       "2249    0.114866\n",
       "2250    0.953628\n",
       "2251    0.072407\n",
       "2252    0.733791\n",
       "2253    0.170286\n",
       "dtype: float64"
      ]
     },
     "execution_count": 43,
     "metadata": {},
     "output_type": "execute_result"
    }
   ],
   "source": [
    "gdf.area.head()   ### Unidades?"
   ]
  },
  {
   "cell_type": "code",
   "execution_count": 44,
   "metadata": {},
   "outputs": [
    {
     "data": {
      "text/plain": [
       "2249    2.965858\n",
       "2250    7.543374\n",
       "2251    1.757637\n",
       "2252    4.264889\n",
       "2253    2.081274\n",
       "dtype: float64"
      ]
     },
     "execution_count": 44,
     "metadata": {},
     "output_type": "execute_result"
    }
   ],
   "source": [
    "gdf.length.head()"
   ]
  },
  {
   "cell_type": "code",
   "execution_count": 45,
   "metadata": {},
   "outputs": [
    {
     "data": {
      "text/html": [
       "<div>\n",
       "<style>\n",
       "    .dataframe thead tr:only-child th {\n",
       "        text-align: right;\n",
       "    }\n",
       "\n",
       "    .dataframe thead th {\n",
       "        text-align: left;\n",
       "    }\n",
       "\n",
       "    .dataframe tbody tr th {\n",
       "        vertical-align: top;\n",
       "    }\n",
       "</style>\n",
       "<table border=\"1\" class=\"dataframe\">\n",
       "  <thead>\n",
       "    <tr style=\"text-align: right;\">\n",
       "      <th></th>\n",
       "      <th>minx</th>\n",
       "      <th>miny</th>\n",
       "      <th>maxx</th>\n",
       "      <th>maxy</th>\n",
       "    </tr>\n",
       "  </thead>\n",
       "  <tbody>\n",
       "    <tr>\n",
       "      <th>2249</th>\n",
       "      <td>-103.510937</td>\n",
       "      <td>24.793104</td>\n",
       "      <td>-102.956807</td>\n",
       "      <td>25.691387</td>\n",
       "    </tr>\n",
       "    <tr>\n",
       "      <th>2250</th>\n",
       "      <td>-102.904713</td>\n",
       "      <td>24.754397</td>\n",
       "      <td>-101.379252</td>\n",
       "      <td>26.421769</td>\n",
       "    </tr>\n",
       "    <tr>\n",
       "      <th>2251</th>\n",
       "      <td>-103.366155</td>\n",
       "      <td>25.371074</td>\n",
       "      <td>-103.030470</td>\n",
       "      <td>25.776177</td>\n",
       "    </tr>\n",
       "    <tr>\n",
       "      <th>2252</th>\n",
       "      <td>-101.997202</td>\n",
       "      <td>28.376462</td>\n",
       "      <td>-100.603667</td>\n",
       "      <td>29.371842</td>\n",
       "    </tr>\n",
       "    <tr>\n",
       "      <th>2253</th>\n",
       "      <td>-101.033033</td>\n",
       "      <td>27.821439</td>\n",
       "      <td>-100.538123</td>\n",
       "      <td>28.377465</td>\n",
       "    </tr>\n",
       "  </tbody>\n",
       "</table>\n",
       "</div>"
      ],
      "text/plain": [
       "            minx       miny        maxx       maxy\n",
       "2249 -103.510937  24.793104 -102.956807  25.691387\n",
       "2250 -102.904713  24.754397 -101.379252  26.421769\n",
       "2251 -103.366155  25.371074 -103.030470  25.776177\n",
       "2252 -101.997202  28.376462 -100.603667  29.371842\n",
       "2253 -101.033033  27.821439 -100.538123  28.377465"
      ]
     },
     "execution_count": 45,
     "metadata": {},
     "output_type": "execute_result"
    }
   ],
   "source": [
    "gdf.bounds.head()"
   ]
  },
  {
   "cell_type": "code",
   "execution_count": 46,
   "metadata": {},
   "outputs": [
    {
     "data": {
      "text/plain": [
       "array([-103.96000192,   24.54268407,  -99.84311981,   29.88002429])"
      ]
     },
     "execution_count": 46,
     "metadata": {},
     "output_type": "execute_result"
    }
   ],
   "source": [
    "gdf.total_bounds"
   ]
  },
  {
   "cell_type": "code",
   "execution_count": 47,
   "metadata": {},
   "outputs": [
    {
     "data": {
      "text/plain": [
       "2249    MultiPolygon\n",
       "2250         Polygon\n",
       "2251         Polygon\n",
       "2252         Polygon\n",
       "2253         Polygon\n",
       "dtype: object"
      ]
     },
     "execution_count": 47,
     "metadata": {},
     "output_type": "execute_result"
    }
   ],
   "source": [
    "gdf.geom_type.head()"
   ]
  },
  {
   "cell_type": "code",
   "execution_count": 48,
   "metadata": {},
   "outputs": [
    {
     "data": {
      "text/plain": [
       "2249    True\n",
       "2250    True\n",
       "2251    True\n",
       "2252    True\n",
       "2253    True\n",
       "dtype: bool"
      ]
     },
     "execution_count": 48,
     "metadata": {},
     "output_type": "execute_result"
    }
   ],
   "source": [
    "gdf.is_valid.head()"
   ]
  },
  {
   "cell_type": "code",
   "execution_count": 49,
   "metadata": {},
   "outputs": [
    {
     "data": {
      "text/plain": [
       "2249    2.262429\n",
       "2250    0.772827\n",
       "2251    2.061688\n",
       "2252    2.385896\n",
       "2253    1.853173\n",
       "2254    1.709656\n",
       "2255    2.200562\n",
       "2256    0.871975\n",
       "2257    1.892639\n",
       "2258    1.138397\n",
       "2259    0.479489\n",
       "2260    1.103808\n",
       "2261    1.647383\n",
       "2262    0.000000\n",
       "2263    1.026286\n",
       "2264    2.662027\n",
       "2265    1.581155\n",
       "2266    2.367662\n",
       "2267    1.123463\n",
       "2268    1.658605\n",
       "2269    2.239846\n",
       "2270    0.706706\n",
       "2271    1.255599\n",
       "2272    1.446850\n",
       "2273    2.730375\n",
       "2274    1.872356\n",
       "2275    1.852547\n",
       "2276    0.436741\n",
       "2277    0.991356\n",
       "2278    1.901151\n",
       "2279    1.097964\n",
       "2280    0.608372\n",
       "2281    0.212516\n",
       "2282    0.545837\n",
       "2283    0.491334\n",
       "2284    2.193902\n",
       "2285    3.142070\n",
       "2286    1.022938\n",
       "dtype: float64"
      ]
     },
     "execution_count": 49,
     "metadata": {},
     "output_type": "execute_result"
    }
   ],
   "source": [
    "gdf.distance(Point(-101,26))"
   ]
  },
  {
   "cell_type": "code",
   "execution_count": 50,
   "metadata": {},
   "outputs": [
    {
     "data": {
      "text/plain": [
       "2249    False\n",
       "2250    False\n",
       "2251    False\n",
       "2252    False\n",
       "2253    False\n",
       "2254    False\n",
       "2255    False\n",
       "2256    False\n",
       "2257    False\n",
       "2258    False\n",
       "2259    False\n",
       "2260    False\n",
       "2261    False\n",
       "2262     True\n",
       "2263    False\n",
       "2264    False\n",
       "2265    False\n",
       "2266    False\n",
       "2267    False\n",
       "2268    False\n",
       "2269    False\n",
       "2270    False\n",
       "2271    False\n",
       "2272    False\n",
       "2273    False\n",
       "2274    False\n",
       "2275    False\n",
       "2276    False\n",
       "2277    False\n",
       "2278    False\n",
       "2279    False\n",
       "2280    False\n",
       "2281    False\n",
       "2282    False\n",
       "2283    False\n",
       "2284    False\n",
       "2285    False\n",
       "2286    False\n",
       "dtype: bool"
      ]
     },
     "execution_count": 50,
     "metadata": {},
     "output_type": "execute_result"
    }
   ],
   "source": [
    "gdf.contains(Point(-101,26))"
   ]
  },
  {
   "cell_type": "code",
   "execution_count": 51,
   "metadata": {},
   "outputs": [
    {
     "data": {
      "text/plain": [
       "2249    False\n",
       "2250    False\n",
       "2251    False\n",
       "2252    False\n",
       "2253    False\n",
       "2254    False\n",
       "2255    False\n",
       "2256    False\n",
       "2257    False\n",
       "2258    False\n",
       "2259    False\n",
       "2260    False\n",
       "2261    False\n",
       "2262     True\n",
       "2263    False\n",
       "2264    False\n",
       "2265    False\n",
       "2266    False\n",
       "2267    False\n",
       "2268    False\n",
       "2269    False\n",
       "2270    False\n",
       "2271    False\n",
       "2272    False\n",
       "2273    False\n",
       "2274    False\n",
       "2275    False\n",
       "2276    False\n",
       "2277    False\n",
       "2278    False\n",
       "2279    False\n",
       "2280    False\n",
       "2281    False\n",
       "2282    False\n",
       "2283    False\n",
       "2284    False\n",
       "2285    False\n",
       "2286    False\n",
       "dtype: bool"
      ]
     },
     "execution_count": 51,
     "metadata": {},
     "output_type": "execute_result"
    }
   ],
   "source": [
    "gdf.intersects(Point(-101,26))"
   ]
  },
  {
   "cell_type": "markdown",
   "metadata": {
    "collapsed": true
   },
   "source": [
    "## Dissolve"
   ]
  },
  {
   "cell_type": "code",
   "execution_count": 52,
   "metadata": {
    "collapsed": true
   },
   "outputs": [],
   "source": [
    "gdf = gpd.read_file('data/Municipios/')"
   ]
  },
  {
   "cell_type": "code",
   "execution_count": 53,
   "metadata": {},
   "outputs": [
    {
     "data": {
      "text/plain": [
       "<matplotlib.axes._subplots.AxesSubplot at 0x7f9d6e824f28>"
      ]
     },
     "execution_count": 53,
     "metadata": {},
     "output_type": "execute_result"
    },
    {
     "data": {
      "image/png": "[encoded data removed]",
      "text/plain": [
       "<matplotlib.figure.Figure at 0x7f9d6e781e10>"
      ]
     },
     "metadata": {},
     "output_type": "display_data"
    }
   ],
   "source": [
    "gdf.dissolve('CVE_ENT', aggfunc='sum').plot(column='OID')"
   ]
  },
  {
   "cell_type": "code",
   "execution_count": 54,
   "metadata": {},
   "outputs": [
    {
     "data": {
      "text/plain": [
       "<matplotlib.axes._subplots.AxesSubplot at 0x7f9d6c22bac8>"
      ]
     },
     "execution_count": 54,
     "metadata": {},
     "output_type": "execute_result"
    },
    {
     "data": {
      "image/png": "[encoded data removed]",
      "text/plain": [
       "<matplotlib.figure.Figure at 0x7f9d6c2246d8>"
      ]
     },
     "metadata": {},
     "output_type": "display_data"
    }
   ],
   "source": [
    "gdf['x']='x'\n",
    "gdf.dissolve('x').plot(column='OID')"
   ]
  },
  {
   "cell_type": "code",
   "execution_count": 55,
   "metadata": {},
   "outputs": [
    {
     "data": {
      "text/plain": [
       "<matplotlib.axes._subplots.AxesSubplot at 0x7f9d6e21c630>"
      ]
     },
     "execution_count": 55,
     "metadata": {},
     "output_type": "execute_result"
    },
    {
     "data": {
      "image/png": "[encoded data removed]",
      "text/plain": [
       "<matplotlib.figure.Figure at 0x7f9d6e5ebfd0>"
      ]
     },
     "metadata": {},
     "output_type": "display_data"
    }
   ],
   "source": [
    "gdf = gdf.loc[gdf.CVE_ENT=='09',:]\n",
    "gdf.plot(column='OID')\n"
   ]
  },
  {
   "cell_type": "markdown",
   "metadata": {
    "collapsed": true
   },
   "source": [
    "### Joins espaciales"
   ]
  },
  {
   "cell_type": "code",
   "execution_count": 133,
   "metadata": {},
   "outputs": [
    {
     "ename": "AttributeError",
     "evalue": "'DataFrame' object has no attribute 'crs'",
     "output_type": "error",
     "traceback": [
      "\u001b[0;31m---------------------------------------------------------------------------\u001b[0m",
      "\u001b[0;31mAttributeError\u001b[0m                            Traceback (most recent call last)",
      "\u001b[0;32m<ipython-input-133-759e47e89bd0>\u001b[0m in \u001b[0;36m<module>\u001b[0;34m()\u001b[0m\n\u001b[0;32m----> 1\u001b[0;31m \u001b[0mdf\u001b[0m \u001b[0;34m=\u001b[0m \u001b[0mgpd\u001b[0m\u001b[0;34m.\u001b[0m\u001b[0msjoin\u001b[0m\u001b[0;34m(\u001b[0m\u001b[0mgdf\u001b[0m\u001b[0;34m,\u001b[0m\u001b[0mdf\u001b[0m\u001b[0;34m,\u001b[0m\u001b[0mhow\u001b[0m\u001b[0;34m=\u001b[0m\u001b[0;34m'inner'\u001b[0m\u001b[0;34m,\u001b[0m\u001b[0mop\u001b[0m\u001b[0;34m=\u001b[0m\u001b[0;34m'intersects'\u001b[0m\u001b[0;34m)\u001b[0m\u001b[0;34m\u001b[0m\u001b[0m\n\u001b[0m\u001b[1;32m      2\u001b[0m \u001b[0mdf\u001b[0m\u001b[0;34m\u001b[0m\u001b[0m\n",
      "\u001b[0;32m~/anaconda3/lib/python3.6/site-packages/geopandas/tools/sjoin.py\u001b[0m in \u001b[0;36msjoin\u001b[0;34m(left_df, right_df, how, op, lsuffix, rsuffix)\u001b[0m\n\u001b[1;32m     39\u001b[0m             (op, allowed_ops))\n\u001b[1;32m     40\u001b[0m \u001b[0;34m\u001b[0m\u001b[0m\n\u001b[0;32m---> 41\u001b[0;31m     \u001b[0;32mif\u001b[0m \u001b[0mleft_df\u001b[0m\u001b[0;34m.\u001b[0m\u001b[0mcrs\u001b[0m \u001b[0;34m!=\u001b[0m \u001b[0mright_df\u001b[0m\u001b[0;34m.\u001b[0m\u001b[0mcrs\u001b[0m\u001b[0;34m:\u001b[0m\u001b[0;34m\u001b[0m\u001b[0m\n\u001b[0m\u001b[1;32m     42\u001b[0m         \u001b[0mprint\u001b[0m\u001b[0;34m(\u001b[0m\u001b[0;34m'Warning: CRS does not match!'\u001b[0m\u001b[0;34m)\u001b[0m\u001b[0;34m\u001b[0m\u001b[0m\n\u001b[1;32m     43\u001b[0m \u001b[0;34m\u001b[0m\u001b[0m\n",
      "\u001b[0;32m~/anaconda3/lib/python3.6/site-packages/pandas/core/generic.py\u001b[0m in \u001b[0;36m__getattr__\u001b[0;34m(self, name)\u001b[0m\n\u001b[1;32m   3079\u001b[0m             \u001b[0;32mif\u001b[0m \u001b[0mname\u001b[0m \u001b[0;32min\u001b[0m \u001b[0mself\u001b[0m\u001b[0;34m.\u001b[0m\u001b[0m_info_axis\u001b[0m\u001b[0;34m:\u001b[0m\u001b[0;34m\u001b[0m\u001b[0m\n\u001b[1;32m   3080\u001b[0m                 \u001b[0;32mreturn\u001b[0m \u001b[0mself\u001b[0m\u001b[0;34m[\u001b[0m\u001b[0mname\u001b[0m\u001b[0;34m]\u001b[0m\u001b[0;34m\u001b[0m\u001b[0m\n\u001b[0;32m-> 3081\u001b[0;31m             \u001b[0;32mreturn\u001b[0m \u001b[0mobject\u001b[0m\u001b[0;34m.\u001b[0m\u001b[0m__getattribute__\u001b[0m\u001b[0;34m(\u001b[0m\u001b[0mself\u001b[0m\u001b[0;34m,\u001b[0m \u001b[0mname\u001b[0m\u001b[0;34m)\u001b[0m\u001b[0;34m\u001b[0m\u001b[0m\n\u001b[0m\u001b[1;32m   3082\u001b[0m \u001b[0;34m\u001b[0m\u001b[0m\n\u001b[1;32m   3083\u001b[0m     \u001b[0;32mdef\u001b[0m \u001b[0m__setattr__\u001b[0m\u001b[0;34m(\u001b[0m\u001b[0mself\u001b[0m\u001b[0;34m,\u001b[0m \u001b[0mname\u001b[0m\u001b[0;34m,\u001b[0m \u001b[0mvalue\u001b[0m\u001b[0;34m)\u001b[0m\u001b[0;34m:\u001b[0m\u001b[0;34m\u001b[0m\u001b[0m\n",
      "\u001b[0;31mAttributeError\u001b[0m: 'DataFrame' object has no attribute 'crs'"
     ]
    }
   ],
   "source": [
    "df = gpd.sjoin(gdf,df,how='inner',op='intersects')\n",
    "df"
   ]
  },
  {
   "cell_type": "code",
   "execution_count": null,
   "metadata": {},
   "outputs": [],
   "source": []
  },
  {
   "cell_type": "code",
   "execution_count": 57,
   "metadata": {},
   "outputs": [
    {
     "ename": "SyntaxError",
     "evalue": "invalid syntax (<ipython-input-57-656360df8d86>, line 1)",
     "output_type": "error",
     "traceback": [
      "\u001b[0;36m  File \u001b[0;32m\"<ipython-input-57-656360df8d86>\"\u001b[0;36m, line \u001b[0;32m1\u001b[0m\n\u001b[0;31m    pip install rtree\u001b[0m\n\u001b[0m              ^\u001b[0m\n\u001b[0;31mSyntaxError\u001b[0m\u001b[0;31m:\u001b[0m invalid syntax\n"
     ]
    }
   ],
   "source": [
    "pip install rtree\n",
    "conda install -c conda-forge rtree"
   ]
  },
  {
   "cell_type": "markdown",
   "metadata": {},
   "source": [
    "instalación \n",
    "\n",
    "Ubuntu: \n",
    "    \n",
    "- Descargar spatialindex de http://download.osgeo.org/libspatialindex/spatialindex-src-1.7.0.tar.gz\n",
    "- descomprimir\n",
    "- cambiar al directorio\n",
    "- sudo su\n",
    "- ./configue\n",
    "- make\n",
    "- make install\n",
    "- ldconfig\n",
    "- easy_install Rtree\n",
    "\n",
    "Windows:\n",
    "\n",
    "- conda install -c conda-forge rtree\n",
    "\n",
    "info: http://toblerity.org/rtree/"
   ]
  },
  {
   "cell_type": "code",
   "execution_count": 132,
   "metadata": {},
   "outputs": [
    {
     "ename": "AttributeError",
     "evalue": "'DataFrame' object has no attribute 'crs'",
     "output_type": "error",
     "traceback": [
      "\u001b[0;31m---------------------------------------------------------------------------\u001b[0m",
      "\u001b[0;31mAttributeError\u001b[0m                            Traceback (most recent call last)",
      "\u001b[0;32m<ipython-input-132-71c2687cd433>\u001b[0m in \u001b[0;36m<module>\u001b[0;34m()\u001b[0m\n\u001b[0;32m----> 1\u001b[0;31m \u001b[0mdf\u001b[0m\u001b[0;34m.\u001b[0m\u001b[0mcrs\u001b[0m\u001b[0;34m\u001b[0m\u001b[0m\n\u001b[0m",
      "\u001b[0;32m~/anaconda3/lib/python3.6/site-packages/pandas/core/generic.py\u001b[0m in \u001b[0;36m__getattr__\u001b[0;34m(self, name)\u001b[0m\n\u001b[1;32m   3079\u001b[0m             \u001b[0;32mif\u001b[0m \u001b[0mname\u001b[0m \u001b[0;32min\u001b[0m \u001b[0mself\u001b[0m\u001b[0;34m.\u001b[0m\u001b[0m_info_axis\u001b[0m\u001b[0;34m:\u001b[0m\u001b[0;34m\u001b[0m\u001b[0m\n\u001b[1;32m   3080\u001b[0m                 \u001b[0;32mreturn\u001b[0m \u001b[0mself\u001b[0m\u001b[0;34m[\u001b[0m\u001b[0mname\u001b[0m\u001b[0;34m]\u001b[0m\u001b[0;34m\u001b[0m\u001b[0m\n\u001b[0;32m-> 3081\u001b[0;31m             \u001b[0;32mreturn\u001b[0m \u001b[0mobject\u001b[0m\u001b[0;34m.\u001b[0m\u001b[0m__getattribute__\u001b[0m\u001b[0;34m(\u001b[0m\u001b[0mself\u001b[0m\u001b[0;34m,\u001b[0m \u001b[0mname\u001b[0m\u001b[0;34m)\u001b[0m\u001b[0;34m\u001b[0m\u001b[0m\n\u001b[0m\u001b[1;32m   3082\u001b[0m \u001b[0;34m\u001b[0m\u001b[0m\n\u001b[1;32m   3083\u001b[0m     \u001b[0;32mdef\u001b[0m \u001b[0m__setattr__\u001b[0m\u001b[0;34m(\u001b[0m\u001b[0mself\u001b[0m\u001b[0;34m,\u001b[0m \u001b[0mname\u001b[0m\u001b[0;34m,\u001b[0m \u001b[0mvalue\u001b[0m\u001b[0;34m)\u001b[0m\u001b[0;34m:\u001b[0m\u001b[0;34m\u001b[0m\u001b[0m\n",
      "\u001b[0;31mAttributeError\u001b[0m: 'DataFrame' object has no attribute 'crs'"
     ]
    }
   ],
   "source": [
    "df.crs"
   ]
  },
  {
   "cell_type": "code",
   "execution_count": 59,
   "metadata": {},
   "outputs": [
    {
     "data": {
      "text/html": [
       "<div>\n",
       "<style>\n",
       "    .dataframe thead tr:only-child th {\n",
       "        text-align: right;\n",
       "    }\n",
       "\n",
       "    .dataframe thead th {\n",
       "        text-align: left;\n",
       "    }\n",
       "\n",
       "    .dataframe tbody tr th {\n",
       "        vertical-align: top;\n",
       "    }\n",
       "</style>\n",
       "<table border=\"1\" class=\"dataframe\">\n",
       "  <thead>\n",
       "    <tr style=\"text-align: right;\">\n",
       "      <th></th>\n",
       "      <th>CVE_ENT</th>\n",
       "      <th>CVE_MUN</th>\n",
       "      <th>NOM_MUN</th>\n",
       "      <th>OID</th>\n",
       "      <th>geometry</th>\n",
       "      <th>x_left</th>\n",
       "      <th>index_right</th>\n",
       "      <th>Unnamed: 0</th>\n",
       "      <th>timestamp</th>\n",
       "      <th>x_right</th>\n",
       "      <th>y</th>\n",
       "      <th>speed</th>\n",
       "      <th>provider</th>\n",
       "    </tr>\n",
       "  </thead>\n",
       "  <tbody>\n",
       "    <tr>\n",
       "      <th>0</th>\n",
       "      <td>09</td>\n",
       "      <td>012</td>\n",
       "      <td>Tlalpan</td>\n",
       "      <td>1</td>\n",
       "      <td>POLYGON ((-99.1967110331436 19.30240497001839,...</td>\n",
       "      <td>x</td>\n",
       "      <td>595556</td>\n",
       "      <td>1101361</td>\n",
       "      <td>2017-03-30T01:49:59Z</td>\n",
       "      <td>-99.220856</td>\n",
       "      <td>19.306109</td>\n",
       "      <td>0.000000</td>\n",
       "      <td>1</td>\n",
       "    </tr>\n",
       "    <tr>\n",
       "      <th>0</th>\n",
       "      <td>09</td>\n",
       "      <td>012</td>\n",
       "      <td>Tlalpan</td>\n",
       "      <td>1</td>\n",
       "      <td>POLYGON ((-99.1967110331436 19.30240497001839,...</td>\n",
       "      <td>x</td>\n",
       "      <td>81678</td>\n",
       "      <td>9699833</td>\n",
       "      <td>2017-03-30T20:10:51Z</td>\n",
       "      <td>-99.217950</td>\n",
       "      <td>19.306130</td>\n",
       "      <td>0.000000</td>\n",
       "      <td>2</td>\n",
       "    </tr>\n",
       "    <tr>\n",
       "      <th>0</th>\n",
       "      <td>09</td>\n",
       "      <td>012</td>\n",
       "      <td>Tlalpan</td>\n",
       "      <td>1</td>\n",
       "      <td>POLYGON ((-99.1967110331436 19.30240497001839,...</td>\n",
       "      <td>x</td>\n",
       "      <td>242659</td>\n",
       "      <td>9327171</td>\n",
       "      <td>2017-03-30T19:35:03Z</td>\n",
       "      <td>-99.209350</td>\n",
       "      <td>19.306170</td>\n",
       "      <td>0.000000</td>\n",
       "      <td>2</td>\n",
       "    </tr>\n",
       "    <tr>\n",
       "      <th>0</th>\n",
       "      <td>09</td>\n",
       "      <td>012</td>\n",
       "      <td>Tlalpan</td>\n",
       "      <td>1</td>\n",
       "      <td>POLYGON ((-99.1967110331436 19.30240497001839,...</td>\n",
       "      <td>x</td>\n",
       "      <td>916515</td>\n",
       "      <td>10125414</td>\n",
       "      <td>2017-03-30T20:52:23Z</td>\n",
       "      <td>-99.138043</td>\n",
       "      <td>19.285051</td>\n",
       "      <td>0.000000</td>\n",
       "      <td>1</td>\n",
       "    </tr>\n",
       "    <tr>\n",
       "      <th>0</th>\n",
       "      <td>09</td>\n",
       "      <td>012</td>\n",
       "      <td>Tlalpan</td>\n",
       "      <td>1</td>\n",
       "      <td>POLYGON ((-99.1967110331436 19.30240497001839,...</td>\n",
       "      <td>x</td>\n",
       "      <td>930164</td>\n",
       "      <td>2200393</td>\n",
       "      <td>2017-03-30T04:07:33Z</td>\n",
       "      <td>-99.195760</td>\n",
       "      <td>19.285340</td>\n",
       "      <td>12.606299</td>\n",
       "      <td>4</td>\n",
       "    </tr>\n",
       "  </tbody>\n",
       "</table>\n",
       "</div>"
      ],
      "text/plain": [
       "  CVE_ENT CVE_MUN  NOM_MUN  OID  \\\n",
       "0      09     012  Tlalpan    1   \n",
       "0      09     012  Tlalpan    1   \n",
       "0      09     012  Tlalpan    1   \n",
       "0      09     012  Tlalpan    1   \n",
       "0      09     012  Tlalpan    1   \n",
       "\n",
       "                                            geometry x_left  index_right  \\\n",
       "0  POLYGON ((-99.1967110331436 19.30240497001839,...      x       595556   \n",
       "0  POLYGON ((-99.1967110331436 19.30240497001839,...      x        81678   \n",
       "0  POLYGON ((-99.1967110331436 19.30240497001839,...      x       242659   \n",
       "0  POLYGON ((-99.1967110331436 19.30240497001839,...      x       916515   \n",
       "0  POLYGON ((-99.1967110331436 19.30240497001839,...      x       930164   \n",
       "\n",
       "   Unnamed: 0             timestamp    x_right          y      speed  provider  \n",
       "0     1101361  2017-03-30T01:49:59Z -99.220856  19.306109   0.000000         1  \n",
       "0     9699833  2017-03-30T20:10:51Z -99.217950  19.306130   0.000000         2  \n",
       "0     9327171  2017-03-30T19:35:03Z -99.209350  19.306170   0.000000         2  \n",
       "0    10125414  2017-03-30T20:52:23Z -99.138043  19.285051   0.000000         1  \n",
       "0     2200393  2017-03-30T04:07:33Z -99.195760  19.285340  12.606299         4  "
      ]
     },
     "execution_count": 59,
     "metadata": {},
     "output_type": "execute_result"
    }
   ],
   "source": [
    "df.head()"
   ]
  },
  {
   "cell_type": "code",
   "execution_count": 60,
   "metadata": {},
   "outputs": [],
   "source": [
    "df = df.to_crs({'init':'epsg:3395'})"
   ]
  },
  {
   "cell_type": "code",
   "execution_count": 61,
   "metadata": {},
   "outputs": [],
   "source": [
    "df['AREA']=df.area  ## que onda con esto?\n"
   ]
  },
  {
   "cell_type": "code",
   "execution_count": 62,
   "metadata": {},
   "outputs": [],
   "source": [
    "u = df.groupby(['NOM_MUN','CVE_ENT','CVE_MUN']).AREA.agg(['count','mean'])"
   ]
  },
  {
   "cell_type": "code",
   "execution_count": 63,
   "metadata": {},
   "outputs": [
    {
     "data": {
      "text/html": [
       "<div>\n",
       "<style>\n",
       "    .dataframe thead tr:only-child th {\n",
       "        text-align: right;\n",
       "    }\n",
       "\n",
       "    .dataframe thead th {\n",
       "        text-align: left;\n",
       "    }\n",
       "\n",
       "    .dataframe tbody tr th {\n",
       "        vertical-align: top;\n",
       "    }\n",
       "</style>\n",
       "<table border=\"1\" class=\"dataframe\">\n",
       "  <thead>\n",
       "    <tr style=\"text-align: right;\">\n",
       "      <th></th>\n",
       "      <th></th>\n",
       "      <th></th>\n",
       "      <th>count</th>\n",
       "      <th>mean</th>\n",
       "    </tr>\n",
       "    <tr>\n",
       "      <th>NOM_MUN</th>\n",
       "      <th>CVE_ENT</th>\n",
       "      <th>CVE_MUN</th>\n",
       "      <th></th>\n",
       "      <th></th>\n",
       "    </tr>\n",
       "  </thead>\n",
       "  <tbody>\n",
       "    <tr>\n",
       "      <th>Azcapotzalco</th>\n",
       "      <th>09</th>\n",
       "      <th>002</th>\n",
       "      <td>75</td>\n",
       "      <td>3.769174e+07</td>\n",
       "    </tr>\n",
       "    <tr>\n",
       "      <th>Benito Ju�rez</th>\n",
       "      <th>09</th>\n",
       "      <th>014</th>\n",
       "      <td>58</td>\n",
       "      <td>2.998339e+07</td>\n",
       "    </tr>\n",
       "    <tr>\n",
       "      <th>Coyoac�n</th>\n",
       "      <th>09</th>\n",
       "      <th>003</th>\n",
       "      <td>66</td>\n",
       "      <td>6.051081e+07</td>\n",
       "    </tr>\n",
       "    <tr>\n",
       "      <th>Cuajimalpa de Morelos</th>\n",
       "      <th>09</th>\n",
       "      <th>004</th>\n",
       "      <td>25</td>\n",
       "      <td>8.019867e+07</td>\n",
       "    </tr>\n",
       "    <tr>\n",
       "      <th>Cuauht�moc</th>\n",
       "      <th>09</th>\n",
       "      <th>015</th>\n",
       "      <td>103</td>\n",
       "      <td>3.654538e+07</td>\n",
       "    </tr>\n",
       "  </tbody>\n",
       "</table>\n",
       "</div>"
      ],
      "text/plain": [
       "                                       count          mean\n",
       "NOM_MUN               CVE_ENT CVE_MUN                     \n",
       "Azcapotzalco          09      002         75  3.769174e+07\n",
       "Benito Ju�rez         09      014         58  2.998339e+07\n",
       "Coyoac�n              09      003         66  6.051081e+07\n",
       "Cuajimalpa de Morelos 09      004         25  8.019867e+07\n",
       "Cuauht�moc            09      015        103  3.654538e+07"
      ]
     },
     "execution_count": 63,
     "metadata": {},
     "output_type": "execute_result"
    }
   ],
   "source": [
    "u.head()"
   ]
  },
  {
   "cell_type": "code",
   "execution_count": 64,
   "metadata": {},
   "outputs": [
    {
     "data": {
      "text/html": [
       "<div>\n",
       "<style>\n",
       "    .dataframe thead tr:only-child th {\n",
       "        text-align: right;\n",
       "    }\n",
       "\n",
       "    .dataframe thead th {\n",
       "        text-align: left;\n",
       "    }\n",
       "\n",
       "    .dataframe tbody tr th {\n",
       "        vertical-align: top;\n",
       "    }\n",
       "</style>\n",
       "<table border=\"1\" class=\"dataframe\">\n",
       "  <thead>\n",
       "    <tr style=\"text-align: right;\">\n",
       "      <th></th>\n",
       "      <th></th>\n",
       "      <th></th>\n",
       "      <th>count</th>\n",
       "      <th>mean</th>\n",
       "      <th>densidad_probes</th>\n",
       "    </tr>\n",
       "    <tr>\n",
       "      <th>NOM_MUN</th>\n",
       "      <th>CVE_ENT</th>\n",
       "      <th>CVE_MUN</th>\n",
       "      <th></th>\n",
       "      <th></th>\n",
       "      <th></th>\n",
       "    </tr>\n",
       "  </thead>\n",
       "  <tbody>\n",
       "    <tr>\n",
       "      <th>Azcapotzalco</th>\n",
       "      <th>09</th>\n",
       "      <th>002</th>\n",
       "      <td>75</td>\n",
       "      <td>3.769174e+07</td>\n",
       "      <td>1.989826e-06</td>\n",
       "    </tr>\n",
       "    <tr>\n",
       "      <th>Benito Ju�rez</th>\n",
       "      <th>09</th>\n",
       "      <th>014</th>\n",
       "      <td>58</td>\n",
       "      <td>2.998339e+07</td>\n",
       "      <td>1.934405e-06</td>\n",
       "    </tr>\n",
       "    <tr>\n",
       "      <th>Coyoac�n</th>\n",
       "      <th>09</th>\n",
       "      <th>003</th>\n",
       "      <td>66</td>\n",
       "      <td>6.051081e+07</td>\n",
       "      <td>1.090714e-06</td>\n",
       "    </tr>\n",
       "    <tr>\n",
       "      <th>Cuajimalpa de Morelos</th>\n",
       "      <th>09</th>\n",
       "      <th>004</th>\n",
       "      <td>25</td>\n",
       "      <td>8.019867e+07</td>\n",
       "      <td>3.117259e-07</td>\n",
       "    </tr>\n",
       "    <tr>\n",
       "      <th>Cuauht�moc</th>\n",
       "      <th>09</th>\n",
       "      <th>015</th>\n",
       "      <td>103</td>\n",
       "      <td>3.654538e+07</td>\n",
       "      <td>2.818414e-06</td>\n",
       "    </tr>\n",
       "  </tbody>\n",
       "</table>\n",
       "</div>"
      ],
      "text/plain": [
       "                                       count          mean  densidad_probes\n",
       "NOM_MUN               CVE_ENT CVE_MUN                                      \n",
       "Azcapotzalco          09      002         75  3.769174e+07     1.989826e-06\n",
       "Benito Ju�rez         09      014         58  2.998339e+07     1.934405e-06\n",
       "Coyoac�n              09      003         66  6.051081e+07     1.090714e-06\n",
       "Cuajimalpa de Morelos 09      004         25  8.019867e+07     3.117259e-07\n",
       "Cuauht�moc            09      015        103  3.654538e+07     2.818414e-06"
      ]
     },
     "execution_count": 64,
     "metadata": {},
     "output_type": "execute_result"
    }
   ],
   "source": [
    "u['densidad_probes']=u['count']/u['mean']  # por qué no u.count/u.mean ?\n",
    "u.head()"
   ]
  },
  {
   "cell_type": "code",
   "execution_count": 65,
   "metadata": {},
   "outputs": [
    {
     "data": {
      "text/html": [
       "<div>\n",
       "<style>\n",
       "    .dataframe thead tr:only-child th {\n",
       "        text-align: right;\n",
       "    }\n",
       "\n",
       "    .dataframe thead th {\n",
       "        text-align: left;\n",
       "    }\n",
       "\n",
       "    .dataframe tbody tr th {\n",
       "        vertical-align: top;\n",
       "    }\n",
       "</style>\n",
       "<table border=\"1\" class=\"dataframe\">\n",
       "  <thead>\n",
       "    <tr style=\"text-align: right;\">\n",
       "      <th></th>\n",
       "      <th>NOM_MUN</th>\n",
       "      <th>CVE_ENT</th>\n",
       "      <th>CVE_MUN</th>\n",
       "      <th>count</th>\n",
       "      <th>mean</th>\n",
       "      <th>densidad_probes</th>\n",
       "    </tr>\n",
       "  </thead>\n",
       "  <tbody>\n",
       "    <tr>\n",
       "      <th>0</th>\n",
       "      <td>Azcapotzalco</td>\n",
       "      <td>09</td>\n",
       "      <td>002</td>\n",
       "      <td>75</td>\n",
       "      <td>3.769174e+07</td>\n",
       "      <td>1.989826e-06</td>\n",
       "    </tr>\n",
       "    <tr>\n",
       "      <th>1</th>\n",
       "      <td>Benito Ju�rez</td>\n",
       "      <td>09</td>\n",
       "      <td>014</td>\n",
       "      <td>58</td>\n",
       "      <td>2.998339e+07</td>\n",
       "      <td>1.934405e-06</td>\n",
       "    </tr>\n",
       "    <tr>\n",
       "      <th>2</th>\n",
       "      <td>Coyoac�n</td>\n",
       "      <td>09</td>\n",
       "      <td>003</td>\n",
       "      <td>66</td>\n",
       "      <td>6.051081e+07</td>\n",
       "      <td>1.090714e-06</td>\n",
       "    </tr>\n",
       "    <tr>\n",
       "      <th>3</th>\n",
       "      <td>Cuajimalpa de Morelos</td>\n",
       "      <td>09</td>\n",
       "      <td>004</td>\n",
       "      <td>25</td>\n",
       "      <td>8.019867e+07</td>\n",
       "      <td>3.117259e-07</td>\n",
       "    </tr>\n",
       "    <tr>\n",
       "      <th>4</th>\n",
       "      <td>Cuauht�moc</td>\n",
       "      <td>09</td>\n",
       "      <td>015</td>\n",
       "      <td>103</td>\n",
       "      <td>3.654538e+07</td>\n",
       "      <td>2.818414e-06</td>\n",
       "    </tr>\n",
       "  </tbody>\n",
       "</table>\n",
       "</div>"
      ],
      "text/plain": [
       "                 NOM_MUN CVE_ENT CVE_MUN  count          mean  densidad_probes\n",
       "0           Azcapotzalco      09     002     75  3.769174e+07     1.989826e-06\n",
       "1          Benito Ju�rez      09     014     58  2.998339e+07     1.934405e-06\n",
       "2               Coyoac�n      09     003     66  6.051081e+07     1.090714e-06\n",
       "3  Cuajimalpa de Morelos      09     004     25  8.019867e+07     3.117259e-07\n",
       "4             Cuauht�moc      09     015    103  3.654538e+07     2.818414e-06"
      ]
     },
     "execution_count": 65,
     "metadata": {},
     "output_type": "execute_result"
    }
   ],
   "source": [
    "u = u.reset_index()\n",
    "u.head()"
   ]
  },
  {
   "cell_type": "code",
   "execution_count": 66,
   "metadata": {},
   "outputs": [
    {
     "data": {
      "text/html": [
       "<div>\n",
       "<style>\n",
       "    .dataframe thead tr:only-child th {\n",
       "        text-align: right;\n",
       "    }\n",
       "\n",
       "    .dataframe thead th {\n",
       "        text-align: left;\n",
       "    }\n",
       "\n",
       "    .dataframe tbody tr th {\n",
       "        vertical-align: top;\n",
       "    }\n",
       "</style>\n",
       "<table border=\"1\" class=\"dataframe\">\n",
       "  <thead>\n",
       "    <tr style=\"text-align: right;\">\n",
       "      <th></th>\n",
       "      <th>CVE_ENT</th>\n",
       "      <th>CVE_MUN</th>\n",
       "      <th>NOM_MUN</th>\n",
       "      <th>OID</th>\n",
       "      <th>geometry</th>\n",
       "      <th>x</th>\n",
       "    </tr>\n",
       "    <tr>\n",
       "      <th>index_left</th>\n",
       "      <th></th>\n",
       "      <th></th>\n",
       "      <th></th>\n",
       "      <th></th>\n",
       "      <th></th>\n",
       "      <th></th>\n",
       "    </tr>\n",
       "  </thead>\n",
       "  <tbody>\n",
       "    <tr>\n",
       "      <th>0</th>\n",
       "      <td>09</td>\n",
       "      <td>012</td>\n",
       "      <td>Tlalpan</td>\n",
       "      <td>1</td>\n",
       "      <td>POLYGON ((-99.1967110331436 19.30240497001839,...</td>\n",
       "      <td>x</td>\n",
       "    </tr>\n",
       "    <tr>\n",
       "      <th>1</th>\n",
       "      <td>09</td>\n",
       "      <td>013</td>\n",
       "      <td>Xochimilco</td>\n",
       "      <td>2</td>\n",
       "      <td>POLYGON ((-99.13301433831455 19.21009500703628...</td>\n",
       "      <td>x</td>\n",
       "    </tr>\n",
       "    <tr>\n",
       "      <th>2</th>\n",
       "      <td>09</td>\n",
       "      <td>008</td>\n",
       "      <td>La Magdalena Contreras</td>\n",
       "      <td>3</td>\n",
       "      <td>POLYGON ((-99.24488741070159 19.27620941570171...</td>\n",
       "      <td>x</td>\n",
       "    </tr>\n",
       "    <tr>\n",
       "      <th>3</th>\n",
       "      <td>09</td>\n",
       "      <td>002</td>\n",
       "      <td>Azcapotzalco</td>\n",
       "      <td>4</td>\n",
       "      <td>POLYGON ((-99.15718110621088 19.50284888316681...</td>\n",
       "      <td>x</td>\n",
       "    </tr>\n",
       "    <tr>\n",
       "      <th>4</th>\n",
       "      <td>09</td>\n",
       "      <td>014</td>\n",
       "      <td>Benito Ju�rez</td>\n",
       "      <td>5</td>\n",
       "      <td>POLYGON ((-99.14349968483091 19.35724145471904...</td>\n",
       "      <td>x</td>\n",
       "    </tr>\n",
       "  </tbody>\n",
       "</table>\n",
       "</div>"
      ],
      "text/plain": [
       "           CVE_ENT CVE_MUN                 NOM_MUN  OID  \\\n",
       "index_left                                                \n",
       "0               09     012                 Tlalpan    1   \n",
       "1               09     013              Xochimilco    2   \n",
       "2               09     008  La Magdalena Contreras    3   \n",
       "3               09     002            Azcapotzalco    4   \n",
       "4               09     014           Benito Ju�rez    5   \n",
       "\n",
       "                                                     geometry  x  \n",
       "index_left                                                        \n",
       "0           POLYGON ((-99.1967110331436 19.30240497001839,...  x  \n",
       "1           POLYGON ((-99.13301433831455 19.21009500703628...  x  \n",
       "2           POLYGON ((-99.24488741070159 19.27620941570171...  x  \n",
       "3           POLYGON ((-99.15718110621088 19.50284888316681...  x  \n",
       "4           POLYGON ((-99.14349968483091 19.35724145471904...  x  "
      ]
     },
     "execution_count": 66,
     "metadata": {},
     "output_type": "execute_result"
    }
   ],
   "source": [
    "gdf.head()"
   ]
  },
  {
   "cell_type": "code",
   "execution_count": 67,
   "metadata": {},
   "outputs": [
    {
     "data": {
      "text/plain": [
       "pandas.core.frame.DataFrame"
      ]
     },
     "execution_count": 67,
     "metadata": {},
     "output_type": "execute_result"
    }
   ],
   "source": [
    "v = pd.merge(u,gdf,how='inner',on=['NOM_MUN','CVE_ENT','CVE_MUN'])\n",
    "type(v)"
   ]
  },
  {
   "cell_type": "code",
   "execution_count": 68,
   "metadata": {},
   "outputs": [
    {
     "data": {
      "text/plain": [
       "geopandas.geodataframe.GeoDataFrame"
      ]
     },
     "execution_count": 68,
     "metadata": {},
     "output_type": "execute_result"
    }
   ],
   "source": [
    "v = pd.merge(gdf,u,how='inner',on=['NOM_MUN','CVE_ENT','CVE_MUN'])\n",
    "type(v)"
   ]
  },
  {
   "cell_type": "code",
   "execution_count": 69,
   "metadata": {},
   "outputs": [
    {
     "data": {
      "text/plain": [
       "<matplotlib.axes._subplots.AxesSubplot at 0x7f9d6b60ac88>"
      ]
     },
     "execution_count": 69,
     "metadata": {},
     "output_type": "execute_result"
    },
    {
     "data": {
      "image/png": "[encoded data removed]",
      "text/plain": [
       "<matplotlib.figure.Figure at 0x7f9d6e21ca58>"
      ]
     },
     "metadata": {},
     "output_type": "display_data"
    }
   ],
   "source": [
    "v.sort_values('densidad_probes',ascending=False).head(16).plot(column='densidad_probes')"
   ]
  },
  {
   "cell_type": "code",
   "execution_count": 70,
   "metadata": {},
   "outputs": [],
   "source": [
    "v = v.to_crs({'init': 'epsg:3395'})\n"
   ]
  },
  {
   "cell_type": "code",
   "execution_count": 71,
   "metadata": {},
   "outputs": [
    {
     "data": {
      "text/plain": [
       "<matplotlib.axes._subplots.AxesSubplot at 0x7f9d6e203710>"
      ]
     },
     "execution_count": 71,
     "metadata": {},
     "output_type": "execute_result"
    },
    {
     "data": {
      "image/png": "[encoded data removed]",
      "text/plain": [
       "<matplotlib.figure.Figure at 0x7f9d6f895860>"
      ]
     },
     "metadata": {},
     "output_type": "display_data"
    }
   ],
   "source": [
    "v['AREA'] = v.area\n",
    "v.sort_values('AREA',ascending=False).plot(column='AREA')"
   ]
  },
  {
   "cell_type": "markdown",
   "metadata": {},
   "source": [
    "### Otras columnas geometry"
   ]
  },
  {
   "cell_type": "code",
   "execution_count": 72,
   "metadata": {},
   "outputs": [
    {
     "data": {
      "text/html": [
       "<div>\n",
       "<style>\n",
       "    .dataframe thead tr:only-child th {\n",
       "        text-align: right;\n",
       "    }\n",
       "\n",
       "    .dataframe thead th {\n",
       "        text-align: left;\n",
       "    }\n",
       "\n",
       "    .dataframe tbody tr th {\n",
       "        vertical-align: top;\n",
       "    }\n",
       "</style>\n",
       "<table border=\"1\" class=\"dataframe\">\n",
       "  <thead>\n",
       "    <tr style=\"text-align: right;\">\n",
       "      <th></th>\n",
       "      <th>CVE_ENT</th>\n",
       "      <th>CVE_MUN</th>\n",
       "      <th>NOM_MUN</th>\n",
       "      <th>OID</th>\n",
       "      <th>geometry</th>\n",
       "      <th>x_left</th>\n",
       "      <th>index_right</th>\n",
       "      <th>Unnamed: 0</th>\n",
       "      <th>timestamp</th>\n",
       "      <th>x_right</th>\n",
       "      <th>y</th>\n",
       "      <th>speed</th>\n",
       "      <th>provider</th>\n",
       "      <th>AREA</th>\n",
       "    </tr>\n",
       "  </thead>\n",
       "  <tbody>\n",
       "    <tr>\n",
       "      <th>0</th>\n",
       "      <td>09</td>\n",
       "      <td>012</td>\n",
       "      <td>Tlalpan</td>\n",
       "      <td>1</td>\n",
       "      <td>POLYGON ((-11042527.36057705 2176454.42710185,...</td>\n",
       "      <td>x</td>\n",
       "      <td>595556</td>\n",
       "      <td>1101361</td>\n",
       "      <td>2017-03-30T01:49:59Z</td>\n",
       "      <td>-99.220856</td>\n",
       "      <td>19.306109</td>\n",
       "      <td>0.000000</td>\n",
       "      <td>1</td>\n",
       "      <td>3.523801e+08</td>\n",
       "    </tr>\n",
       "    <tr>\n",
       "      <th>0</th>\n",
       "      <td>09</td>\n",
       "      <td>012</td>\n",
       "      <td>Tlalpan</td>\n",
       "      <td>1</td>\n",
       "      <td>POLYGON ((-11042527.36057705 2176454.42710185,...</td>\n",
       "      <td>x</td>\n",
       "      <td>81678</td>\n",
       "      <td>9699833</td>\n",
       "      <td>2017-03-30T20:10:51Z</td>\n",
       "      <td>-99.217950</td>\n",
       "      <td>19.306130</td>\n",
       "      <td>0.000000</td>\n",
       "      <td>2</td>\n",
       "      <td>3.523801e+08</td>\n",
       "    </tr>\n",
       "    <tr>\n",
       "      <th>0</th>\n",
       "      <td>09</td>\n",
       "      <td>012</td>\n",
       "      <td>Tlalpan</td>\n",
       "      <td>1</td>\n",
       "      <td>POLYGON ((-11042527.36057705 2176454.42710185,...</td>\n",
       "      <td>x</td>\n",
       "      <td>242659</td>\n",
       "      <td>9327171</td>\n",
       "      <td>2017-03-30T19:35:03Z</td>\n",
       "      <td>-99.209350</td>\n",
       "      <td>19.306170</td>\n",
       "      <td>0.000000</td>\n",
       "      <td>2</td>\n",
       "      <td>3.523801e+08</td>\n",
       "    </tr>\n",
       "    <tr>\n",
       "      <th>0</th>\n",
       "      <td>09</td>\n",
       "      <td>012</td>\n",
       "      <td>Tlalpan</td>\n",
       "      <td>1</td>\n",
       "      <td>POLYGON ((-11042527.36057705 2176454.42710185,...</td>\n",
       "      <td>x</td>\n",
       "      <td>916515</td>\n",
       "      <td>10125414</td>\n",
       "      <td>2017-03-30T20:52:23Z</td>\n",
       "      <td>-99.138043</td>\n",
       "      <td>19.285051</td>\n",
       "      <td>0.000000</td>\n",
       "      <td>1</td>\n",
       "      <td>3.523801e+08</td>\n",
       "    </tr>\n",
       "    <tr>\n",
       "      <th>0</th>\n",
       "      <td>09</td>\n",
       "      <td>012</td>\n",
       "      <td>Tlalpan</td>\n",
       "      <td>1</td>\n",
       "      <td>POLYGON ((-11042527.36057705 2176454.42710185,...</td>\n",
       "      <td>x</td>\n",
       "      <td>930164</td>\n",
       "      <td>2200393</td>\n",
       "      <td>2017-03-30T04:07:33Z</td>\n",
       "      <td>-99.195760</td>\n",
       "      <td>19.285340</td>\n",
       "      <td>12.606299</td>\n",
       "      <td>4</td>\n",
       "      <td>3.523801e+08</td>\n",
       "    </tr>\n",
       "  </tbody>\n",
       "</table>\n",
       "</div>"
      ],
      "text/plain": [
       "  CVE_ENT CVE_MUN  NOM_MUN  OID  \\\n",
       "0      09     012  Tlalpan    1   \n",
       "0      09     012  Tlalpan    1   \n",
       "0      09     012  Tlalpan    1   \n",
       "0      09     012  Tlalpan    1   \n",
       "0      09     012  Tlalpan    1   \n",
       "\n",
       "                                            geometry x_left  index_right  \\\n",
       "0  POLYGON ((-11042527.36057705 2176454.42710185,...      x       595556   \n",
       "0  POLYGON ((-11042527.36057705 2176454.42710185,...      x        81678   \n",
       "0  POLYGON ((-11042527.36057705 2176454.42710185,...      x       242659   \n",
       "0  POLYGON ((-11042527.36057705 2176454.42710185,...      x       916515   \n",
       "0  POLYGON ((-11042527.36057705 2176454.42710185,...      x       930164   \n",
       "\n",
       "   Unnamed: 0             timestamp    x_right          y      speed  \\\n",
       "0     1101361  2017-03-30T01:49:59Z -99.220856  19.306109   0.000000   \n",
       "0     9699833  2017-03-30T20:10:51Z -99.217950  19.306130   0.000000   \n",
       "0     9327171  2017-03-30T19:35:03Z -99.209350  19.306170   0.000000   \n",
       "0    10125414  2017-03-30T20:52:23Z -99.138043  19.285051   0.000000   \n",
       "0     2200393  2017-03-30T04:07:33Z -99.195760  19.285340  12.606299   \n",
       "\n",
       "   provider          AREA  \n",
       "0         1  3.523801e+08  \n",
       "0         2  3.523801e+08  \n",
       "0         2  3.523801e+08  \n",
       "0         1  3.523801e+08  \n",
       "0         4  3.523801e+08  "
      ]
     },
     "execution_count": 72,
     "metadata": {},
     "output_type": "execute_result"
    }
   ],
   "source": [
    "df.head()"
   ]
  },
  {
   "cell_type": "code",
   "execution_count": 73,
   "metadata": {
    "collapsed": true
   },
   "outputs": [],
   "source": [
    "df['geometry2']=df.centroid"
   ]
  },
  {
   "cell_type": "code",
   "execution_count": 74,
   "metadata": {
    "collapsed": true
   },
   "outputs": [],
   "source": [
    "df['geometry3']=df.geometry"
   ]
  },
  {
   "cell_type": "code",
   "execution_count": 75,
   "metadata": {},
   "outputs": [
    {
     "data": {
      "text/html": [
       "<div>\n",
       "<style>\n",
       "    .dataframe thead tr:only-child th {\n",
       "        text-align: right;\n",
       "    }\n",
       "\n",
       "    .dataframe thead th {\n",
       "        text-align: left;\n",
       "    }\n",
       "\n",
       "    .dataframe tbody tr th {\n",
       "        vertical-align: top;\n",
       "    }\n",
       "</style>\n",
       "<table border=\"1\" class=\"dataframe\">\n",
       "  <thead>\n",
       "    <tr style=\"text-align: right;\">\n",
       "      <th></th>\n",
       "      <th>CVE_ENT</th>\n",
       "      <th>CVE_MUN</th>\n",
       "      <th>NOM_MUN</th>\n",
       "      <th>OID</th>\n",
       "      <th>geometry</th>\n",
       "      <th>x_left</th>\n",
       "      <th>index_right</th>\n",
       "      <th>Unnamed: 0</th>\n",
       "      <th>timestamp</th>\n",
       "      <th>x_right</th>\n",
       "      <th>y</th>\n",
       "      <th>speed</th>\n",
       "      <th>provider</th>\n",
       "      <th>AREA</th>\n",
       "      <th>geometry2</th>\n",
       "      <th>geometry3</th>\n",
       "    </tr>\n",
       "  </thead>\n",
       "  <tbody>\n",
       "    <tr>\n",
       "      <th>0</th>\n",
       "      <td>09</td>\n",
       "      <td>012</td>\n",
       "      <td>Tlalpan</td>\n",
       "      <td>1</td>\n",
       "      <td>POINT (-11043585.68608504 2164260.573296153)</td>\n",
       "      <td>x</td>\n",
       "      <td>595556</td>\n",
       "      <td>1101361</td>\n",
       "      <td>2017-03-30T01:49:59Z</td>\n",
       "      <td>-99.220856</td>\n",
       "      <td>19.306109</td>\n",
       "      <td>0.000000</td>\n",
       "      <td>1</td>\n",
       "      <td>3.523801e+08</td>\n",
       "      <td>POINT (-11043585.68608504 2164260.573296153)</td>\n",
       "      <td>POLYGON ((-11042527.36057705 2176454.42710185,...</td>\n",
       "    </tr>\n",
       "    <tr>\n",
       "      <th>0</th>\n",
       "      <td>09</td>\n",
       "      <td>012</td>\n",
       "      <td>Tlalpan</td>\n",
       "      <td>1</td>\n",
       "      <td>POINT (-11043585.68608504 2164260.573296153)</td>\n",
       "      <td>x</td>\n",
       "      <td>81678</td>\n",
       "      <td>9699833</td>\n",
       "      <td>2017-03-30T20:10:51Z</td>\n",
       "      <td>-99.217950</td>\n",
       "      <td>19.306130</td>\n",
       "      <td>0.000000</td>\n",
       "      <td>2</td>\n",
       "      <td>3.523801e+08</td>\n",
       "      <td>POINT (-11043585.68608504 2164260.573296153)</td>\n",
       "      <td>POLYGON ((-11042527.36057705 2176454.42710185,...</td>\n",
       "    </tr>\n",
       "    <tr>\n",
       "      <th>0</th>\n",
       "      <td>09</td>\n",
       "      <td>012</td>\n",
       "      <td>Tlalpan</td>\n",
       "      <td>1</td>\n",
       "      <td>POINT (-11043585.68608504 2164260.573296153)</td>\n",
       "      <td>x</td>\n",
       "      <td>242659</td>\n",
       "      <td>9327171</td>\n",
       "      <td>2017-03-30T19:35:03Z</td>\n",
       "      <td>-99.209350</td>\n",
       "      <td>19.306170</td>\n",
       "      <td>0.000000</td>\n",
       "      <td>2</td>\n",
       "      <td>3.523801e+08</td>\n",
       "      <td>POINT (-11043585.68608504 2164260.573296153)</td>\n",
       "      <td>POLYGON ((-11042527.36057705 2176454.42710185,...</td>\n",
       "    </tr>\n",
       "    <tr>\n",
       "      <th>0</th>\n",
       "      <td>09</td>\n",
       "      <td>012</td>\n",
       "      <td>Tlalpan</td>\n",
       "      <td>1</td>\n",
       "      <td>POINT (-11043585.68608504 2164260.573296153)</td>\n",
       "      <td>x</td>\n",
       "      <td>916515</td>\n",
       "      <td>10125414</td>\n",
       "      <td>2017-03-30T20:52:23Z</td>\n",
       "      <td>-99.138043</td>\n",
       "      <td>19.285051</td>\n",
       "      <td>0.000000</td>\n",
       "      <td>1</td>\n",
       "      <td>3.523801e+08</td>\n",
       "      <td>POINT (-11043585.68608504 2164260.573296153)</td>\n",
       "      <td>POLYGON ((-11042527.36057705 2176454.42710185,...</td>\n",
       "    </tr>\n",
       "    <tr>\n",
       "      <th>0</th>\n",
       "      <td>09</td>\n",
       "      <td>012</td>\n",
       "      <td>Tlalpan</td>\n",
       "      <td>1</td>\n",
       "      <td>POINT (-11043585.68608504 2164260.573296153)</td>\n",
       "      <td>x</td>\n",
       "      <td>930164</td>\n",
       "      <td>2200393</td>\n",
       "      <td>2017-03-30T04:07:33Z</td>\n",
       "      <td>-99.195760</td>\n",
       "      <td>19.285340</td>\n",
       "      <td>12.606299</td>\n",
       "      <td>4</td>\n",
       "      <td>3.523801e+08</td>\n",
       "      <td>POINT (-11043585.68608504 2164260.573296153)</td>\n",
       "      <td>POLYGON ((-11042527.36057705 2176454.42710185,...</td>\n",
       "    </tr>\n",
       "  </tbody>\n",
       "</table>\n",
       "</div>"
      ],
      "text/plain": [
       "  CVE_ENT CVE_MUN  NOM_MUN  OID                                      geometry  \\\n",
       "0      09     012  Tlalpan    1  POINT (-11043585.68608504 2164260.573296153)   \n",
       "0      09     012  Tlalpan    1  POINT (-11043585.68608504 2164260.573296153)   \n",
       "0      09     012  Tlalpan    1  POINT (-11043585.68608504 2164260.573296153)   \n",
       "0      09     012  Tlalpan    1  POINT (-11043585.68608504 2164260.573296153)   \n",
       "0      09     012  Tlalpan    1  POINT (-11043585.68608504 2164260.573296153)   \n",
       "\n",
       "  x_left  index_right  Unnamed: 0             timestamp    x_right          y  \\\n",
       "0      x       595556     1101361  2017-03-30T01:49:59Z -99.220856  19.306109   \n",
       "0      x        81678     9699833  2017-03-30T20:10:51Z -99.217950  19.306130   \n",
       "0      x       242659     9327171  2017-03-30T19:35:03Z -99.209350  19.306170   \n",
       "0      x       916515    10125414  2017-03-30T20:52:23Z -99.138043  19.285051   \n",
       "0      x       930164     2200393  2017-03-30T04:07:33Z -99.195760  19.285340   \n",
       "\n",
       "       speed  provider          AREA  \\\n",
       "0   0.000000         1  3.523801e+08   \n",
       "0   0.000000         2  3.523801e+08   \n",
       "0   0.000000         2  3.523801e+08   \n",
       "0   0.000000         1  3.523801e+08   \n",
       "0  12.606299         4  3.523801e+08   \n",
       "\n",
       "                                      geometry2  \\\n",
       "0  POINT (-11043585.68608504 2164260.573296153)   \n",
       "0  POINT (-11043585.68608504 2164260.573296153)   \n",
       "0  POINT (-11043585.68608504 2164260.573296153)   \n",
       "0  POINT (-11043585.68608504 2164260.573296153)   \n",
       "0  POINT (-11043585.68608504 2164260.573296153)   \n",
       "\n",
       "                                           geometry3  \n",
       "0  POLYGON ((-11042527.36057705 2176454.42710185,...  \n",
       "0  POLYGON ((-11042527.36057705 2176454.42710185,...  \n",
       "0  POLYGON ((-11042527.36057705 2176454.42710185,...  \n",
       "0  POLYGON ((-11042527.36057705 2176454.42710185,...  \n",
       "0  POLYGON ((-11042527.36057705 2176454.42710185,...  "
      ]
     },
     "execution_count": 75,
     "metadata": {},
     "output_type": "execute_result"
    }
   ],
   "source": [
    "df.geometry = df.geometry2\n",
    "df.head()"
   ]
  },
  {
   "cell_type": "code",
   "execution_count": null,
   "metadata": {
    "collapsed": true
   },
   "outputs": [],
   "source": []
  },
  {
   "cell_type": "markdown",
   "metadata": {
    "collapsed": true
   },
   "source": [
    "\n",
    "## Operaciones booleanas\n"
   ]
  },
  {
   "cell_type": "code",
   "execution_count": 76,
   "metadata": {
    "collapsed": true
   },
   "outputs": [],
   "source": [
    "polys1 = gpd.GeoSeries([Polygon([(0,0), (2,0), (2,2), (0,2)]),Polygon([(2,2), (4,2), (4,4), (2,4)])])\n",
    "polys2 = gpd.GeoSeries([Polygon([(1,1), (3,1), (3,3), (1,3)]),Polygon([(3,3), (5,3), (5,5), (3,5)])])"
   ]
  },
  {
   "cell_type": "code",
   "execution_count": 77,
   "metadata": {},
   "outputs": [],
   "source": [
    "df1 = gpd.GeoDataFrame({'geometry': polys1, 'df1':[1,2]})\n",
    "df2 = gpd.GeoDataFrame({'geometry': polys2, 'df2':[1,2]})"
   ]
  },
  {
   "cell_type": "code",
   "execution_count": 78,
   "metadata": {},
   "outputs": [
    {
     "data": {
      "text/html": [
       "<div>\n",
       "<style>\n",
       "    .dataframe thead tr:only-child th {\n",
       "        text-align: right;\n",
       "    }\n",
       "\n",
       "    .dataframe thead th {\n",
       "        text-align: left;\n",
       "    }\n",
       "\n",
       "    .dataframe tbody tr th {\n",
       "        vertical-align: top;\n",
       "    }\n",
       "</style>\n",
       "<table border=\"1\" class=\"dataframe\">\n",
       "  <thead>\n",
       "    <tr style=\"text-align: right;\">\n",
       "      <th></th>\n",
       "      <th>df1</th>\n",
       "      <th>geometry</th>\n",
       "    </tr>\n",
       "  </thead>\n",
       "  <tbody>\n",
       "    <tr>\n",
       "      <th>0</th>\n",
       "      <td>1</td>\n",
       "      <td>POLYGON ((0 0, 2 0, 2 2, 0 2, 0 0))</td>\n",
       "    </tr>\n",
       "    <tr>\n",
       "      <th>1</th>\n",
       "      <td>2</td>\n",
       "      <td>POLYGON ((2 2, 4 2, 4 4, 2 4, 2 2))</td>\n",
       "    </tr>\n",
       "  </tbody>\n",
       "</table>\n",
       "</div>"
      ],
      "text/plain": [
       "   df1                             geometry\n",
       "0    1  POLYGON ((0 0, 2 0, 2 2, 0 2, 0 0))\n",
       "1    2  POLYGON ((2 2, 4 2, 4 4, 2 4, 2 2))"
      ]
     },
     "execution_count": 78,
     "metadata": {},
     "output_type": "execute_result"
    }
   ],
   "source": [
    "df1"
   ]
  },
  {
   "cell_type": "code",
   "execution_count": 79,
   "metadata": {},
   "outputs": [
    {
     "data": {
      "text/html": [
       "<div>\n",
       "<style>\n",
       "    .dataframe thead tr:only-child th {\n",
       "        text-align: right;\n",
       "    }\n",
       "\n",
       "    .dataframe thead th {\n",
       "        text-align: left;\n",
       "    }\n",
       "\n",
       "    .dataframe tbody tr th {\n",
       "        vertical-align: top;\n",
       "    }\n",
       "</style>\n",
       "<table border=\"1\" class=\"dataframe\">\n",
       "  <thead>\n",
       "    <tr style=\"text-align: right;\">\n",
       "      <th></th>\n",
       "      <th>df2</th>\n",
       "      <th>geometry</th>\n",
       "    </tr>\n",
       "  </thead>\n",
       "  <tbody>\n",
       "    <tr>\n",
       "      <th>0</th>\n",
       "      <td>1</td>\n",
       "      <td>POLYGON ((1 1, 3 1, 3 3, 1 3, 1 1))</td>\n",
       "    </tr>\n",
       "    <tr>\n",
       "      <th>1</th>\n",
       "      <td>2</td>\n",
       "      <td>POLYGON ((3 3, 5 3, 5 5, 3 5, 3 3))</td>\n",
       "    </tr>\n",
       "  </tbody>\n",
       "</table>\n",
       "</div>"
      ],
      "text/plain": [
       "   df2                             geometry\n",
       "0    1  POLYGON ((1 1, 3 1, 3 3, 1 3, 1 1))\n",
       "1    2  POLYGON ((3 3, 5 3, 5 5, 3 5, 3 3))"
      ]
     },
     "execution_count": 79,
     "metadata": {},
     "output_type": "execute_result"
    }
   ],
   "source": [
    "df2"
   ]
  },
  {
   "cell_type": "code",
   "execution_count": 80,
   "metadata": {},
   "outputs": [
    {
     "data": {
      "text/plain": [
       "0    4.0\n",
       "1    4.0\n",
       "dtype: float64"
      ]
     },
     "execution_count": 80,
     "metadata": {},
     "output_type": "execute_result"
    }
   ],
   "source": [
    "df1.area"
   ]
  },
  {
   "cell_type": "code",
   "execution_count": 81,
   "metadata": {},
   "outputs": [
    {
     "data": {
      "image/png": "[encoded data removed]",
      "text/plain": [
       "<matplotlib.figure.Figure at 0x7f9d6b5eb5f8>"
      ]
     },
     "metadata": {},
     "output_type": "display_data"
    }
   ],
   "source": [
    "ax = df1.plot(color='red');\n",
    "\n",
    "df2.plot(ax=ax, color='green', alpha=0.5);"
   ]
  },
  {
   "cell_type": "code",
   "execution_count": 82,
   "metadata": {
    "collapsed": true
   },
   "outputs": [],
   "source": [
    "res_union = gpd.overlay(df1, df2, how='union')"
   ]
  },
  {
   "cell_type": "code",
   "execution_count": 83,
   "metadata": {},
   "outputs": [
    {
     "data": {
      "text/html": [
       "<div>\n",
       "<style>\n",
       "    .dataframe thead tr:only-child th {\n",
       "        text-align: right;\n",
       "    }\n",
       "\n",
       "    .dataframe thead th {\n",
       "        text-align: left;\n",
       "    }\n",
       "\n",
       "    .dataframe tbody tr th {\n",
       "        vertical-align: top;\n",
       "    }\n",
       "</style>\n",
       "<table border=\"1\" class=\"dataframe\">\n",
       "  <thead>\n",
       "    <tr style=\"text-align: right;\">\n",
       "      <th></th>\n",
       "      <th>df1</th>\n",
       "      <th>df2</th>\n",
       "      <th>geometry</th>\n",
       "    </tr>\n",
       "  </thead>\n",
       "  <tbody>\n",
       "    <tr>\n",
       "      <th>0</th>\n",
       "      <td>1.0</td>\n",
       "      <td>NaN</td>\n",
       "      <td>POLYGON ((2 1, 2 0, 0 0, 0 2, 1 2, 1 1, 2 1))</td>\n",
       "    </tr>\n",
       "    <tr>\n",
       "      <th>1</th>\n",
       "      <td>1.0</td>\n",
       "      <td>1.0</td>\n",
       "      <td>POLYGON ((2 1, 1 1, 1 2, 2 2, 2 1))</td>\n",
       "    </tr>\n",
       "    <tr>\n",
       "      <th>2</th>\n",
       "      <td>NaN</td>\n",
       "      <td>1.0</td>\n",
       "      <td>POLYGON ((2 1, 2 2, 3 2, 3 1, 2 1))</td>\n",
       "    </tr>\n",
       "    <tr>\n",
       "      <th>3</th>\n",
       "      <td>NaN</td>\n",
       "      <td>1.0</td>\n",
       "      <td>POLYGON ((2 2, 1 2, 1 3, 2 3, 2 2))</td>\n",
       "    </tr>\n",
       "    <tr>\n",
       "      <th>4</th>\n",
       "      <td>2.0</td>\n",
       "      <td>NaN</td>\n",
       "      <td>POLYGON ((3 2, 3 3, 4 3, 4 2, 3 2))</td>\n",
       "    </tr>\n",
       "    <tr>\n",
       "      <th>5</th>\n",
       "      <td>2.0</td>\n",
       "      <td>1.0</td>\n",
       "      <td>POLYGON ((3 3, 3 2, 2 2, 2 3, 3 3))</td>\n",
       "    </tr>\n",
       "    <tr>\n",
       "      <th>6</th>\n",
       "      <td>2.0</td>\n",
       "      <td>NaN</td>\n",
       "      <td>POLYGON ((3 3, 2 3, 2 4, 3 4, 3 3))</td>\n",
       "    </tr>\n",
       "    <tr>\n",
       "      <th>7</th>\n",
       "      <td>NaN</td>\n",
       "      <td>2.0</td>\n",
       "      <td>POLYGON ((4 3, 4 4, 3 4, 3 5, 5 5, 5 3, 4 3))</td>\n",
       "    </tr>\n",
       "    <tr>\n",
       "      <th>8</th>\n",
       "      <td>2.0</td>\n",
       "      <td>2.0</td>\n",
       "      <td>POLYGON ((3 4, 4 4, 4 3, 3 3, 3 4))</td>\n",
       "    </tr>\n",
       "  </tbody>\n",
       "</table>\n",
       "</div>"
      ],
      "text/plain": [
       "   df1  df2                                       geometry\n",
       "0  1.0  NaN  POLYGON ((2 1, 2 0, 0 0, 0 2, 1 2, 1 1, 2 1))\n",
       "1  1.0  1.0            POLYGON ((2 1, 1 1, 1 2, 2 2, 2 1))\n",
       "2  NaN  1.0            POLYGON ((2 1, 2 2, 3 2, 3 1, 2 1))\n",
       "3  NaN  1.0            POLYGON ((2 2, 1 2, 1 3, 2 3, 2 2))\n",
       "4  2.0  NaN            POLYGON ((3 2, 3 3, 4 3, 4 2, 3 2))\n",
       "5  2.0  1.0            POLYGON ((3 3, 3 2, 2 2, 2 3, 3 3))\n",
       "6  2.0  NaN            POLYGON ((3 3, 2 3, 2 4, 3 4, 3 3))\n",
       "7  NaN  2.0  POLYGON ((4 3, 4 4, 3 4, 3 5, 5 5, 5 3, 4 3))\n",
       "8  2.0  2.0            POLYGON ((3 4, 4 4, 4 3, 3 3, 3 4))"
      ]
     },
     "execution_count": 83,
     "metadata": {},
     "output_type": "execute_result"
    }
   ],
   "source": [
    "res_union"
   ]
  },
  {
   "cell_type": "code",
   "execution_count": 84,
   "metadata": {},
   "outputs": [
    {
     "data": {
      "text/plain": [
       "<matplotlib.axes._subplots.AxesSubplot at 0x7f9d6eb7a668>"
      ]
     },
     "execution_count": 84,
     "metadata": {},
     "output_type": "execute_result"
    },
    {
     "data": {
      "image/png": "[encoded data removed]",
      "text/plain": [
       "<matplotlib.figure.Figure at 0x7f9d6b4db278>"
      ]
     },
     "metadata": {},
     "output_type": "display_data"
    }
   ],
   "source": [
    "res_union = gpd.overlay(df1, df2, how='union')\n",
    "res_union['x']=list(range(len(res_union)))\n",
    "res_union.plot(column='x')\n"
   ]
  },
  {
   "cell_type": "code",
   "execution_count": 85,
   "metadata": {},
   "outputs": [
    {
     "data": {
      "image/png": "[encoded data removed]",
      "text/plain": [
       "<matplotlib.figure.Figure at 0x7f9d6b9002b0>"
      ]
     },
     "metadata": {},
     "output_type": "display_data"
    }
   ],
   "source": [
    "res_intersection = gpd.overlay(df1, df2, how='intersection')\n",
    "res_intersection['x']=list(range(len(res_intersection)))\n",
    "\n",
    "ax = res_intersection.plot(cmap='tab10')\n",
    "\n",
    "df1.plot(ax=ax, facecolor='none', edgecolor='k');\n",
    "\n",
    "df2.plot(ax=ax, facecolor='none', edgecolor='k');"
   ]
  },
  {
   "cell_type": "code",
   "execution_count": 86,
   "metadata": {},
   "outputs": [
    {
     "data": {
      "text/plain": [
       "<matplotlib.axes._subplots.AxesSubplot at 0x7f9d6c166470>"
      ]
     },
     "execution_count": 86,
     "metadata": {},
     "output_type": "execute_result"
    },
    {
     "data": {
      "image/png": "[encoded data removed]",
      "text/plain": [
       "<matplotlib.figure.Figure at 0x7f9d6e347e48>"
      ]
     },
     "metadata": {},
     "output_type": "display_data"
    }
   ],
   "source": [
    "res_symdiff = gpd.overlay(df1, df2, how='symmetric_difference')\n",
    "\n",
    "\n",
    "\n",
    "ax = res_symdiff.plot(cmap='tab10')\n",
    "\n",
    "df1.plot(ax=ax, facecolor='none', edgecolor='k')\n",
    "\n",
    "df2.plot(ax=ax, facecolor='none', edgecolor='k')"
   ]
  },
  {
   "cell_type": "code",
   "execution_count": 87,
   "metadata": {},
   "outputs": [
    {
     "data": {
      "text/plain": [
       "<matplotlib.axes._subplots.AxesSubplot at 0x7f9d6eb94940>"
      ]
     },
     "execution_count": 87,
     "metadata": {},
     "output_type": "execute_result"
    },
    {
     "data": {
      "image/png": "[encoded data removed]",
      "text/plain": [
       "<matplotlib.figure.Figure at 0x7f9d6ecfe550>"
      ]
     },
     "metadata": {},
     "output_type": "display_data"
    }
   ],
   "source": [
    "res_difference = gpd.overlay(df2, df1, how='difference')\n",
    "\n",
    "\n",
    "ax = res_difference.plot(cmap='tab10')\n",
    "df1.plot(ax=ax, facecolor='none', edgecolor='k')\n",
    "df2.plot(ax=ax, facecolor='none', edgecolor='k')"
   ]
  },
  {
   "cell_type": "code",
   "execution_count": 88,
   "metadata": {},
   "outputs": [
    {
     "data": {
      "text/plain": [
       "<matplotlib.axes._subplots.AxesSubplot at 0x7f9d6e4d4ac8>"
      ]
     },
     "execution_count": 88,
     "metadata": {},
     "output_type": "execute_result"
    },
    {
     "data": {
      "image/png": "[encoded data removed]",
      "text/plain": [
       "<matplotlib.figure.Figure at 0x7f9d6e431e48>"
      ]
     },
     "metadata": {},
     "output_type": "display_data"
    }
   ],
   "source": [
    "res_identity = gpd.overlay(df1, df2, how='identity')\n",
    "\n",
    "\n",
    "ax = res_identity.plot(cmap='tab10')\n",
    "\n",
    "df1.plot(ax=ax, facecolor='none', edgecolor='k')\n",
    "\n",
    "df2.plot(ax=ax, facecolor='none', edgecolor='k')"
   ]
  },
  {
   "cell_type": "code",
   "execution_count": 89,
   "metadata": {},
   "outputs": [
    {
     "ename": "NameError",
     "evalue": "name 'other' is not defined",
     "output_type": "error",
     "traceback": [
      "\u001b[0;31m---------------------------------------------------------------------------\u001b[0m",
      "\u001b[0;31mNameError\u001b[0m                                 Traceback (most recent call last)",
      "\u001b[0;32m<ipython-input-89-5534b1023b4b>\u001b[0m in \u001b[0;36m<module>\u001b[0;34m()\u001b[0m\n\u001b[0;32m----> 1\u001b[0;31m \u001b[0mgdf\u001b[0m\u001b[0;34m.\u001b[0m\u001b[0mdifference\u001b[0m\u001b[0;34m(\u001b[0m\u001b[0mother\u001b[0m\u001b[0;34m)\u001b[0m\u001b[0;34m\u001b[0m\u001b[0m\n\u001b[0m\u001b[1;32m      2\u001b[0m \u001b[0;34m\u001b[0m\u001b[0m\n\u001b[1;32m      3\u001b[0m \u001b[0mgdf\u001b[0m\u001b[0;34m.\u001b[0m\u001b[0mintersection\u001b[0m\u001b[0;34m(\u001b[0m\u001b[0mother\u001b[0m\u001b[0;34m)\u001b[0m\u001b[0;34m\u001b[0m\u001b[0m\n\u001b[1;32m      4\u001b[0m \u001b[0;34m\u001b[0m\u001b[0m\n\u001b[1;32m      5\u001b[0m \u001b[0mgdf\u001b[0m\u001b[0;34m.\u001b[0m\u001b[0msymmetric_difference\u001b[0m\u001b[0;34m(\u001b[0m\u001b[0mother\u001b[0m\u001b[0;34m)\u001b[0m\u001b[0;34m\u001b[0m\u001b[0m\n",
      "\u001b[0;31mNameError\u001b[0m: name 'other' is not defined"
     ]
    }
   ],
   "source": [
    "gdf.difference(other)\n",
    "\n",
    "gdf.intersection(other)\n",
    "\n",
    "gdf.symmetric_difference(other)\n",
    "\n",
    "gdf.union(other)"
   ]
  },
  {
   "cell_type": "markdown",
   "metadata": {},
   "source": [
    "### Geocoding y Geocoding inverso"
   ]
  },
  {
   "cell_type": "code",
   "execution_count": 113,
   "metadata": {},
   "outputs": [
    {
     "data": {
      "text/html": [
       "<div>\n",
       "<style>\n",
       "    .dataframe thead tr:only-child th {\n",
       "        text-align: right;\n",
       "    }\n",
       "\n",
       "    .dataframe thead th {\n",
       "        text-align: left;\n",
       "    }\n",
       "\n",
       "    .dataframe tbody tr th {\n",
       "        vertical-align: top;\n",
       "    }\n",
       "</style>\n",
       "<table border=\"1\" class=\"dataframe\">\n",
       "  <thead>\n",
       "    <tr style=\"text-align: right;\">\n",
       "      <th></th>\n",
       "      <th>Unnamed: 0</th>\n",
       "      <th>id</th>\n",
       "      <th>nom_estab</th>\n",
       "      <th>raz_social</th>\n",
       "      <th>codigo_act</th>\n",
       "      <th>nombre_act</th>\n",
       "      <th>per_ocu</th>\n",
       "      <th>tipo_vial</th>\n",
       "      <th>nom_vial</th>\n",
       "      <th>tipo_v_e_1</th>\n",
       "      <th>...</th>\n",
       "      <th>localidad</th>\n",
       "      <th>ageb</th>\n",
       "      <th>manzana</th>\n",
       "      <th>telefono</th>\n",
       "      <th>correoelec</th>\n",
       "      <th>www</th>\n",
       "      <th>tipoUniEco</th>\n",
       "      <th>latitud</th>\n",
       "      <th>longitud</th>\n",
       "      <th>fecha_alta</th>\n",
       "    </tr>\n",
       "  </thead>\n",
       "  <tbody>\n",
       "    <tr>\n",
       "      <th>1223</th>\n",
       "      <td>1224</td>\n",
       "      <td>6374840</td>\n",
       "      <td>COPPEL CANADA ZAPATERÍA JUÁREZ 1077</td>\n",
       "      <td>COPPEL SA DE CV</td>\n",
       "      <td>463310</td>\n",
       "      <td>Comercio al por menor de calzado</td>\n",
       "      <td>11 a 30 personas</td>\n",
       "      <td>AVENIDA</td>\n",
       "      <td>JUÁREZ</td>\n",
       "      <td>CALLE</td>\n",
       "      <td>...</td>\n",
       "      <td>Tlacolula de Matamoros</td>\n",
       "      <td>0127</td>\n",
       "      <td>24</td>\n",
       "      <td>9.515622e+09</td>\n",
       "      <td>FZAMUDIO@COPPEL.COM</td>\n",
       "      <td>WWW.COPPEL.COM</td>\n",
       "      <td>Fijo</td>\n",
       "      <td>16.958731</td>\n",
       "      <td>-96.477760</td>\n",
       "      <td>DICIEMBRE 2014</td>\n",
       "    </tr>\n",
       "    <tr>\n",
       "      <th>698</th>\n",
       "      <td>699</td>\n",
       "      <td>6377217</td>\n",
       "      <td>COPPEL CANADA ORIENTE 765</td>\n",
       "      <td>COPPEL SA DE CV</td>\n",
       "      <td>462210</td>\n",
       "      <td>Comercio al por menor en tiendas departamentales</td>\n",
       "      <td>11 a 30 personas</td>\n",
       "      <td>CALLE</td>\n",
       "      <td>3 ORIENTE</td>\n",
       "      <td>CALLE</td>\n",
       "      <td>...</td>\n",
       "      <td>Tehuacán</td>\n",
       "      <td>0569</td>\n",
       "      <td>21</td>\n",
       "      <td>2.388384e+10</td>\n",
       "      <td>FZAMUDIO@COPPEL.COM</td>\n",
       "      <td>WWW.COPPEL.COM</td>\n",
       "      <td>Fijo</td>\n",
       "      <td>18.460751</td>\n",
       "      <td>-97.389053</td>\n",
       "      <td>MARZO 2011</td>\n",
       "    </tr>\n",
       "    <tr>\n",
       "      <th>400</th>\n",
       "      <td>401</td>\n",
       "      <td>6341949</td>\n",
       "      <td>COPPEL REFORMA 244</td>\n",
       "      <td>COPPEL SA DE CV</td>\n",
       "      <td>462210</td>\n",
       "      <td>Comercio al por menor en tiendas departamentales</td>\n",
       "      <td>51 a 100 personas</td>\n",
       "      <td>CALLE</td>\n",
       "      <td>REFORMA</td>\n",
       "      <td>CALLE</td>\n",
       "      <td>...</td>\n",
       "      <td>Ciudad Guzmán</td>\n",
       "      <td>0064</td>\n",
       "      <td>14</td>\n",
       "      <td>3.414130e+09</td>\n",
       "      <td>FZAMUDIO@COPPEL.COM</td>\n",
       "      <td>WWW.COPPEL.COM</td>\n",
       "      <td>Fijo</td>\n",
       "      <td>19.703362</td>\n",
       "      <td>-103.465108</td>\n",
       "      <td>JULIO 2010</td>\n",
       "    </tr>\n",
       "    <tr>\n",
       "      <th>685</th>\n",
       "      <td>686</td>\n",
       "      <td>6379770</td>\n",
       "      <td>COPPEL 3 SUR 125</td>\n",
       "      <td>COPPEL SA DE CV</td>\n",
       "      <td>462210</td>\n",
       "      <td>Comercio al por menor en tiendas departamentales</td>\n",
       "      <td>51 a 100 personas</td>\n",
       "      <td>CALLE</td>\n",
       "      <td>3 SUR</td>\n",
       "      <td>AVENIDA</td>\n",
       "      <td>...</td>\n",
       "      <td>Tehuacán</td>\n",
       "      <td>0075</td>\n",
       "      <td>11</td>\n",
       "      <td>2.383839e+09</td>\n",
       "      <td>FZAMUDIO@COPPEL.COM</td>\n",
       "      <td>WWW.COPPEL.COM</td>\n",
       "      <td>Fijo</td>\n",
       "      <td>18.462368</td>\n",
       "      <td>-97.391382</td>\n",
       "      <td>JULIO 2010</td>\n",
       "    </tr>\n",
       "    <tr>\n",
       "      <th>344</th>\n",
       "      <td>345</td>\n",
       "      <td>6767086</td>\n",
       "      <td>COPPEL CANADA</td>\n",
       "      <td>COPPEL SA DE CV</td>\n",
       "      <td>462210</td>\n",
       "      <td>Comercio al por menor en tiendas departamentales</td>\n",
       "      <td>11 a 30 personas</td>\n",
       "      <td>CALLE</td>\n",
       "      <td>MARÍA GUADALUPE MARTÍNEZ DE HERNÁNDEZ LOZA</td>\n",
       "      <td>CALLE</td>\n",
       "      <td>...</td>\n",
       "      <td>Guadalajara</td>\n",
       "      <td>4211</td>\n",
       "      <td>33</td>\n",
       "      <td>1.333604e+10</td>\n",
       "      <td>NaN</td>\n",
       "      <td>NaN</td>\n",
       "      <td>Fijo</td>\n",
       "      <td>20.690643</td>\n",
       "      <td>-103.278575</td>\n",
       "      <td>OCTUBRE 2016</td>\n",
       "    </tr>\n",
       "  </tbody>\n",
       "</table>\n",
       "<p>5 rows × 42 columns</p>\n",
       "</div>"
      ],
      "text/plain": [
       "      Unnamed: 0       id                            nom_estab  \\\n",
       "1223        1224  6374840  COPPEL CANADA ZAPATERÍA JUÁREZ 1077   \n",
       "698          699  6377217            COPPEL CANADA ORIENTE 765   \n",
       "400          401  6341949                   COPPEL REFORMA 244   \n",
       "685          686  6379770                     COPPEL 3 SUR 125   \n",
       "344          345  6767086                        COPPEL CANADA   \n",
       "\n",
       "           raz_social  codigo_act  \\\n",
       "1223  COPPEL SA DE CV      463310   \n",
       "698   COPPEL SA DE CV      462210   \n",
       "400   COPPEL SA DE CV      462210   \n",
       "685   COPPEL SA DE CV      462210   \n",
       "344   COPPEL SA DE CV      462210   \n",
       "\n",
       "                                            nombre_act            per_ocu  \\\n",
       "1223                  Comercio al por menor de calzado   11 a 30 personas   \n",
       "698   Comercio al por menor en tiendas departamentales   11 a 30 personas   \n",
       "400   Comercio al por menor en tiendas departamentales  51 a 100 personas   \n",
       "685   Comercio al por menor en tiendas departamentales  51 a 100 personas   \n",
       "344   Comercio al por menor en tiendas departamentales   11 a 30 personas   \n",
       "\n",
       "     tipo_vial                                    nom_vial tipo_v_e_1  \\\n",
       "1223   AVENIDA                                      JUÁREZ      CALLE   \n",
       "698      CALLE                                   3 ORIENTE      CALLE   \n",
       "400      CALLE                                     REFORMA      CALLE   \n",
       "685      CALLE                                       3 SUR    AVENIDA   \n",
       "344      CALLE  MARÍA GUADALUPE MARTÍNEZ DE HERNÁNDEZ LOZA      CALLE   \n",
       "\n",
       "           ...                     localidad  ageb manzana      telefono  \\\n",
       "1223       ...        Tlacolula de Matamoros  0127      24  9.515622e+09   \n",
       "698        ...                      Tehuacán  0569      21  2.388384e+10   \n",
       "400        ...                 Ciudad Guzmán  0064      14  3.414130e+09   \n",
       "685        ...                      Tehuacán  0075      11  2.383839e+09   \n",
       "344        ...                   Guadalajara  4211      33  1.333604e+10   \n",
       "\n",
       "               correoelec             www tipoUniEco    latitud    longitud  \\\n",
       "1223  FZAMUDIO@COPPEL.COM  WWW.COPPEL.COM       Fijo  16.958731  -96.477760   \n",
       "698   FZAMUDIO@COPPEL.COM  WWW.COPPEL.COM       Fijo  18.460751  -97.389053   \n",
       "400   FZAMUDIO@COPPEL.COM  WWW.COPPEL.COM       Fijo  19.703362 -103.465108   \n",
       "685   FZAMUDIO@COPPEL.COM  WWW.COPPEL.COM       Fijo  18.462368  -97.391382   \n",
       "344                   NaN             NaN       Fijo  20.690643 -103.278575   \n",
       "\n",
       "          fecha_alta  \n",
       "1223  DICIEMBRE 2014  \n",
       "698       MARZO 2011  \n",
       "400       JULIO 2010  \n",
       "685       JULIO 2010  \n",
       "344     OCTUBRE 2016  \n",
       "\n",
       "[5 rows x 42 columns]"
      ]
     },
     "execution_count": 113,
     "metadata": {},
     "output_type": "execute_result"
    }
   ],
   "source": [
    "gdf = pd.read_csv('data/Coppel.csv').sample(10)\n",
    "gdf.head()"
   ]
  },
  {
   "cell_type": "code",
   "execution_count": 114,
   "metadata": {},
   "outputs": [
    {
     "data": {
      "text/plain": [
       "[<shapely.geometry.point.Point at 0x7f9d6d6c02e8>,\n",
       " <shapely.geometry.point.Point at 0x7f9d6d6c0b38>,\n",
       " <shapely.geometry.point.Point at 0x7f9d6d6c0390>,\n",
       " <shapely.geometry.point.Point at 0x7f9d6d6c0550>,\n",
       " <shapely.geometry.point.Point at 0x7f9d6d6c0048>]"
      ]
     },
     "execution_count": 114,
     "metadata": {},
     "output_type": "execute_result"
    }
   ],
   "source": [
    "l = [Point(xy) for xy in zip(gdf.latitud,gdf.longitud)]\n",
    "l[0:5]"
   ]
  },
  {
   "cell_type": "code",
   "execution_count": 115,
   "metadata": {},
   "outputs": [
    {
     "data": {
      "text/html": [
       "<div>\n",
       "<style>\n",
       "    .dataframe thead tr:only-child th {\n",
       "        text-align: right;\n",
       "    }\n",
       "\n",
       "    .dataframe thead th {\n",
       "        text-align: left;\n",
       "    }\n",
       "\n",
       "    .dataframe tbody tr th {\n",
       "        vertical-align: top;\n",
       "    }\n",
       "</style>\n",
       "<table border=\"1\" class=\"dataframe\">\n",
       "  <thead>\n",
       "    <tr style=\"text-align: right;\">\n",
       "      <th></th>\n",
       "      <th>Unnamed: 0</th>\n",
       "      <th>id</th>\n",
       "      <th>nom_estab</th>\n",
       "      <th>raz_social</th>\n",
       "      <th>codigo_act</th>\n",
       "      <th>nombre_act</th>\n",
       "      <th>per_ocu</th>\n",
       "      <th>tipo_vial</th>\n",
       "      <th>nom_vial</th>\n",
       "      <th>tipo_v_e_1</th>\n",
       "      <th>...</th>\n",
       "      <th>ageb</th>\n",
       "      <th>manzana</th>\n",
       "      <th>telefono</th>\n",
       "      <th>correoelec</th>\n",
       "      <th>www</th>\n",
       "      <th>tipoUniEco</th>\n",
       "      <th>latitud</th>\n",
       "      <th>longitud</th>\n",
       "      <th>fecha_alta</th>\n",
       "      <th>geometry</th>\n",
       "    </tr>\n",
       "  </thead>\n",
       "  <tbody>\n",
       "    <tr>\n",
       "      <th>1223</th>\n",
       "      <td>1224</td>\n",
       "      <td>6374840</td>\n",
       "      <td>COPPEL CANADA ZAPATERÍA JUÁREZ 1077</td>\n",
       "      <td>COPPEL SA DE CV</td>\n",
       "      <td>463310</td>\n",
       "      <td>Comercio al por menor de calzado</td>\n",
       "      <td>11 a 30 personas</td>\n",
       "      <td>AVENIDA</td>\n",
       "      <td>JUÁREZ</td>\n",
       "      <td>CALLE</td>\n",
       "      <td>...</td>\n",
       "      <td>0127</td>\n",
       "      <td>24</td>\n",
       "      <td>9.515622e+09</td>\n",
       "      <td>FZAMUDIO@COPPEL.COM</td>\n",
       "      <td>WWW.COPPEL.COM</td>\n",
       "      <td>Fijo</td>\n",
       "      <td>16.958731</td>\n",
       "      <td>-96.477760</td>\n",
       "      <td>DICIEMBRE 2014</td>\n",
       "      <td>POINT (16.9587311 -96.47775986000001)</td>\n",
       "    </tr>\n",
       "    <tr>\n",
       "      <th>698</th>\n",
       "      <td>699</td>\n",
       "      <td>6377217</td>\n",
       "      <td>COPPEL CANADA ORIENTE 765</td>\n",
       "      <td>COPPEL SA DE CV</td>\n",
       "      <td>462210</td>\n",
       "      <td>Comercio al por menor en tiendas departamentales</td>\n",
       "      <td>11 a 30 personas</td>\n",
       "      <td>CALLE</td>\n",
       "      <td>3 ORIENTE</td>\n",
       "      <td>CALLE</td>\n",
       "      <td>...</td>\n",
       "      <td>0569</td>\n",
       "      <td>21</td>\n",
       "      <td>2.388384e+10</td>\n",
       "      <td>FZAMUDIO@COPPEL.COM</td>\n",
       "      <td>WWW.COPPEL.COM</td>\n",
       "      <td>Fijo</td>\n",
       "      <td>18.460751</td>\n",
       "      <td>-97.389053</td>\n",
       "      <td>MARZO 2011</td>\n",
       "      <td>POINT (18.46075099 -97.38905291)</td>\n",
       "    </tr>\n",
       "    <tr>\n",
       "      <th>400</th>\n",
       "      <td>401</td>\n",
       "      <td>6341949</td>\n",
       "      <td>COPPEL REFORMA 244</td>\n",
       "      <td>COPPEL SA DE CV</td>\n",
       "      <td>462210</td>\n",
       "      <td>Comercio al por menor en tiendas departamentales</td>\n",
       "      <td>51 a 100 personas</td>\n",
       "      <td>CALLE</td>\n",
       "      <td>REFORMA</td>\n",
       "      <td>CALLE</td>\n",
       "      <td>...</td>\n",
       "      <td>0064</td>\n",
       "      <td>14</td>\n",
       "      <td>3.414130e+09</td>\n",
       "      <td>FZAMUDIO@COPPEL.COM</td>\n",
       "      <td>WWW.COPPEL.COM</td>\n",
       "      <td>Fijo</td>\n",
       "      <td>19.703362</td>\n",
       "      <td>-103.465108</td>\n",
       "      <td>JULIO 2010</td>\n",
       "      <td>POINT (19.70336215 -103.46510835)</td>\n",
       "    </tr>\n",
       "    <tr>\n",
       "      <th>685</th>\n",
       "      <td>686</td>\n",
       "      <td>6379770</td>\n",
       "      <td>COPPEL 3 SUR 125</td>\n",
       "      <td>COPPEL SA DE CV</td>\n",
       "      <td>462210</td>\n",
       "      <td>Comercio al por menor en tiendas departamentales</td>\n",
       "      <td>51 a 100 personas</td>\n",
       "      <td>CALLE</td>\n",
       "      <td>3 SUR</td>\n",
       "      <td>AVENIDA</td>\n",
       "      <td>...</td>\n",
       "      <td>0075</td>\n",
       "      <td>11</td>\n",
       "      <td>2.383839e+09</td>\n",
       "      <td>FZAMUDIO@COPPEL.COM</td>\n",
       "      <td>WWW.COPPEL.COM</td>\n",
       "      <td>Fijo</td>\n",
       "      <td>18.462368</td>\n",
       "      <td>-97.391382</td>\n",
       "      <td>JULIO 2010</td>\n",
       "      <td>POINT (18.46236839 -97.39138173000001)</td>\n",
       "    </tr>\n",
       "    <tr>\n",
       "      <th>344</th>\n",
       "      <td>345</td>\n",
       "      <td>6767086</td>\n",
       "      <td>COPPEL CANADA</td>\n",
       "      <td>COPPEL SA DE CV</td>\n",
       "      <td>462210</td>\n",
       "      <td>Comercio al por menor en tiendas departamentales</td>\n",
       "      <td>11 a 30 personas</td>\n",
       "      <td>CALLE</td>\n",
       "      <td>MARÍA GUADALUPE MARTÍNEZ DE HERNÁNDEZ LOZA</td>\n",
       "      <td>CALLE</td>\n",
       "      <td>...</td>\n",
       "      <td>4211</td>\n",
       "      <td>33</td>\n",
       "      <td>1.333604e+10</td>\n",
       "      <td>NaN</td>\n",
       "      <td>NaN</td>\n",
       "      <td>Fijo</td>\n",
       "      <td>20.690643</td>\n",
       "      <td>-103.278575</td>\n",
       "      <td>OCTUBRE 2016</td>\n",
       "      <td>POINT (20.69064281 -103.2785745)</td>\n",
       "    </tr>\n",
       "  </tbody>\n",
       "</table>\n",
       "<p>5 rows × 43 columns</p>\n",
       "</div>"
      ],
      "text/plain": [
       "      Unnamed: 0       id                            nom_estab  \\\n",
       "1223        1224  6374840  COPPEL CANADA ZAPATERÍA JUÁREZ 1077   \n",
       "698          699  6377217            COPPEL CANADA ORIENTE 765   \n",
       "400          401  6341949                   COPPEL REFORMA 244   \n",
       "685          686  6379770                     COPPEL 3 SUR 125   \n",
       "344          345  6767086                        COPPEL CANADA   \n",
       "\n",
       "           raz_social  codigo_act  \\\n",
       "1223  COPPEL SA DE CV      463310   \n",
       "698   COPPEL SA DE CV      462210   \n",
       "400   COPPEL SA DE CV      462210   \n",
       "685   COPPEL SA DE CV      462210   \n",
       "344   COPPEL SA DE CV      462210   \n",
       "\n",
       "                                            nombre_act            per_ocu  \\\n",
       "1223                  Comercio al por menor de calzado   11 a 30 personas   \n",
       "698   Comercio al por menor en tiendas departamentales   11 a 30 personas   \n",
       "400   Comercio al por menor en tiendas departamentales  51 a 100 personas   \n",
       "685   Comercio al por menor en tiendas departamentales  51 a 100 personas   \n",
       "344   Comercio al por menor en tiendas departamentales   11 a 30 personas   \n",
       "\n",
       "     tipo_vial                                    nom_vial tipo_v_e_1  \\\n",
       "1223   AVENIDA                                      JUÁREZ      CALLE   \n",
       "698      CALLE                                   3 ORIENTE      CALLE   \n",
       "400      CALLE                                     REFORMA      CALLE   \n",
       "685      CALLE                                       3 SUR    AVENIDA   \n",
       "344      CALLE  MARÍA GUADALUPE MARTÍNEZ DE HERNÁNDEZ LOZA      CALLE   \n",
       "\n",
       "                       ...                    ageb manzana      telefono  \\\n",
       "1223                   ...                    0127      24  9.515622e+09   \n",
       "698                    ...                    0569      21  2.388384e+10   \n",
       "400                    ...                    0064      14  3.414130e+09   \n",
       "685                    ...                    0075      11  2.383839e+09   \n",
       "344                    ...                    4211      33  1.333604e+10   \n",
       "\n",
       "               correoelec             www  tipoUniEco    latitud    longitud  \\\n",
       "1223  FZAMUDIO@COPPEL.COM  WWW.COPPEL.COM        Fijo  16.958731  -96.477760   \n",
       "698   FZAMUDIO@COPPEL.COM  WWW.COPPEL.COM        Fijo  18.460751  -97.389053   \n",
       "400   FZAMUDIO@COPPEL.COM  WWW.COPPEL.COM        Fijo  19.703362 -103.465108   \n",
       "685   FZAMUDIO@COPPEL.COM  WWW.COPPEL.COM        Fijo  18.462368  -97.391382   \n",
       "344                   NaN             NaN        Fijo  20.690643 -103.278575   \n",
       "\n",
       "          fecha_alta                                geometry  \n",
       "1223  DICIEMBRE 2014   POINT (16.9587311 -96.47775986000001)  \n",
       "698       MARZO 2011        POINT (18.46075099 -97.38905291)  \n",
       "400       JULIO 2010       POINT (19.70336215 -103.46510835)  \n",
       "685       JULIO 2010  POINT (18.46236839 -97.39138173000001)  \n",
       "344     OCTUBRE 2016        POINT (20.69064281 -103.2785745)  \n",
       "\n",
       "[5 rows x 43 columns]"
      ]
     },
     "execution_count": 115,
     "metadata": {},
     "output_type": "execute_result"
    }
   ],
   "source": [
    "gdf = gpd.GeoDataFrame(gdf,geometry=l)\n",
    "gdf.head()"
   ]
  },
  {
   "cell_type": "code",
   "execution_count": 116,
   "metadata": {},
   "outputs": [
    {
     "data": {
      "text/html": [
       "<div>\n",
       "<style>\n",
       "    .dataframe thead tr:only-child th {\n",
       "        text-align: right;\n",
       "    }\n",
       "\n",
       "    .dataframe thead th {\n",
       "        text-align: left;\n",
       "    }\n",
       "\n",
       "    .dataframe tbody tr th {\n",
       "        vertical-align: top;\n",
       "    }\n",
       "</style>\n",
       "<table border=\"1\" class=\"dataframe\">\n",
       "  <thead>\n",
       "    <tr style=\"text-align: right;\">\n",
       "      <th></th>\n",
       "      <th>direccion</th>\n",
       "      <th>geometry</th>\n",
       "    </tr>\n",
       "  </thead>\n",
       "  <tbody>\n",
       "    <tr>\n",
       "      <th>1223</th>\n",
       "      <td>JUÁREZ 24, 70400, Tlacolula de Matamoros</td>\n",
       "      <td>POINT (16.9587311 -96.47775986000001)</td>\n",
       "    </tr>\n",
       "    <tr>\n",
       "      <th>698</th>\n",
       "      <td>3 ORIENTE 504, 75700, Tehuacán</td>\n",
       "      <td>POINT (18.46075099 -97.38905291)</td>\n",
       "    </tr>\n",
       "    <tr>\n",
       "      <th>400</th>\n",
       "      <td>REFORMA 49, 49000, Zapotlán el Grande</td>\n",
       "      <td>POINT (19.70336215 -103.46510835)</td>\n",
       "    </tr>\n",
       "    <tr>\n",
       "      <th>685</th>\n",
       "      <td>3 SUR 0, 75700, Tehuacán</td>\n",
       "      <td>POINT (18.46236839 -97.39138173000001)</td>\n",
       "    </tr>\n",
       "    <tr>\n",
       "      <th>344</th>\n",
       "      <td>MARÍA GUADALUPE MARTÍNEZ DE HERNÁNDEZ LOZA 200...</td>\n",
       "      <td>POINT (20.69064281 -103.2785745)</td>\n",
       "    </tr>\n",
       "  </tbody>\n",
       "</table>\n",
       "</div>"
      ],
      "text/plain": [
       "                                              direccion  \\\n",
       "1223           JUÁREZ 24, 70400, Tlacolula de Matamoros   \n",
       "698                      3 ORIENTE 504, 75700, Tehuacán   \n",
       "400               REFORMA 49, 49000, Zapotlán el Grande   \n",
       "685                            3 SUR 0, 75700, Tehuacán   \n",
       "344   MARÍA GUADALUPE MARTÍNEZ DE HERNÁNDEZ LOZA 200...   \n",
       "\n",
       "                                    geometry  \n",
       "1223   POINT (16.9587311 -96.47775986000001)  \n",
       "698         POINT (18.46075099 -97.38905291)  \n",
       "400        POINT (19.70336215 -103.46510835)  \n",
       "685   POINT (18.46236839 -97.39138173000001)  \n",
       "344         POINT (20.69064281 -103.2785745)  "
      ]
     },
     "execution_count": 116,
     "metadata": {},
     "output_type": "execute_result"
    }
   ],
   "source": [
    "gdf = gdf.fillna(0)\n",
    "gdf['direccion'] = gdf.nom_vial+' '+gdf.numero_ext.astype(int).astype(str)\\\n",
    "                        +', '+gdf.cod_postal.astype(int).astype(str)+', '+gdf.municipio\n",
    "gdf[['direccion','geometry']].head()"
   ]
  },
  {
   "cell_type": "code",
   "execution_count": 117,
   "metadata": {},
   "outputs": [
    {
     "data": {
      "text/plain": [
       "Location(Flatiron Building, 175, 5th Avenue, Flatiron Building, Manhattan Community Board 5, New York County, NYC, New York, 10010, United States of America, (40.7410861, -73.9896298241625, 0.0))"
      ]
     },
     "execution_count": 117,
     "metadata": {},
     "output_type": "execute_result"
    }
   ],
   "source": [
    "from geopy.geocoders import Nominatim\n",
    "geolocator = Nominatim()\n",
    "location = geolocator.geocode(\"175 5th Avenue NYC\")\n",
    "location"
   ]
  },
  {
   "cell_type": "code",
   "execution_count": 119,
   "metadata": {
    "collapsed": true
   },
   "outputs": [],
   "source": [
    "gdf['coordenadas'] = gdf.head(5).direccion.apply(geolocator.geocode)"
   ]
  },
  {
   "cell_type": "code",
   "execution_count": 125,
   "metadata": {},
   "outputs": [
    {
     "data": {
      "text/plain": [
       "Location(Av. Reforma, Ciudad Guzmán, Zapotlán el Grande, Jalisco, 49070, México, (19.7033906, -103.4660491, 0.0))"
      ]
     },
     "execution_count": 125,
     "metadata": {},
     "output_type": "execute_result"
    }
   ],
   "source": [
    "gdf.iloc[2,:].coordenadas\n",
    "\n"
   ]
  },
  {
   "cell_type": "code",
   "execution_count": 111,
   "metadata": {},
   "outputs": [
    {
     "data": {
      "text/plain": [
       "'Coppel, Avenida Morelos, Ganaderia, Rincón de Romos, Aguascalientes, 20408, México'"
      ]
     },
     "execution_count": 111,
     "metadata": {},
     "output_type": "execute_result"
    }
   ],
   "source": [
    "location = geolocator.reverse(\"22.23051478,-102.32095893\")\n",
    "location.address"
   ]
  },
  {
   "cell_type": "markdown",
   "metadata": {},
   "source": [
    "** Quiz ** Modifica el código para obtener la columna coordenadas como una geometria. Usa funciones apply\n",
    "\n",
    "** Quiz ** Crea una función apply que te devuelva la dirección si le envias un objeto Point()"
   ]
  },
  {
   "cell_type": "markdown",
   "metadata": {},
   "source": [
    "## Datos"
   ]
  },
  {
   "cell_type": "markdown",
   "metadata": {},
   "source": [
    "### Descargando los datos diréctamente"
   ]
  },
  {
   "cell_type": "markdown",
   "metadata": {},
   "source": [
    "http://www.conabio.gob.mx/informacion/gis/\n",
    "\n",
    "http://geo.datos.gob.mx/geoserver/web/wicket/bookmarkable/org.geoserver.web.demo.MapPreviewPage?1\n",
    "\n",
    "http://www.inegi.org.mx/geo/contenidos/geoestadistica/m_geoestadistico.aspx"
   ]
  },
  {
   "cell_type": "code",
   "execution_count": null,
   "metadata": {},
   "outputs": [],
   "source": [
    "hidro_lotica = gpd.read_file('hidrolingw/')\n",
    "hidro_lotica.plot()"
   ]
  },
  {
   "cell_type": "code",
   "execution_count": null,
   "metadata": {},
   "outputs": [],
   "source": [
    "hidro_lotica.head()"
   ]
  },
  {
   "cell_type": "markdown",
   "metadata": {
    "collapsed": true
   },
   "source": [
    "\n",
    "\n"
   ]
  },
  {
   "cell_type": "code",
   "execution_count": null,
   "metadata": {},
   "outputs": [],
   "source": [
    "# conectandose a un api"
   ]
  },
  {
   "cell_type": "code",
   "execution_count": null,
   "metadata": {
    "collapsed": true
   },
   "outputs": [],
   "source": []
  },
  {
   "cell_type": "code",
   "execution_count": null,
   "metadata": {},
   "outputs": [],
   "source": [
    "df.to_file('geoDF.geojson', driver=\"GeoJSON\")"
   ]
  },
  {
   "cell_type": "code",
   "execution_count": null,
   "metadata": {
    "collapsed": true
   },
   "outputs": [],
   "source": [
    "gdf.to_file('CDMX')"
   ]
  }
 ],
 "metadata": {
  "kernelspec": {
   "display_name": "Python 3",
   "language": "python",
   "name": "python3"
  },
  "language_info": {
   "codemirror_mode": {
    "name": "ipython",
    "version": 3
   },
   "file_extension": ".py",
   "mimetype": "text/x-python",
   "name": "python",
   "nbconvert_exporter": "python",
   "pygments_lexer": "ipython3",
   "version": "3.6.3"
  }
 },
 "nbformat": 4,
 "nbformat_minor": 2
}
